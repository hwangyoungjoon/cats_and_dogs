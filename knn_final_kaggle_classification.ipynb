{
 "cells": [
  {
   "cell_type": "code",
   "execution_count": 34,
   "metadata": {
    "collapsed": false,
    "deletable": true,
    "editable": true
   },
   "outputs": [],
   "source": [
    "import scipy\n",
    "import csv as csv\n",
    "import numpy as np # linear algebra\n",
    "import pandas as pd # data processing, CSV file I/O (e.g. pd.read_csv)\n",
    "import sklearn as sk\n",
    "from numpy import array\n",
    "import cv2\n",
    "import os\n",
    "import matplotlib as mpl\n",
    "import matplotlib.pylab as plt\n",
    "import random\n",
    "from PIL import Image \n",
    "from PIL import ImageFilter\n",
    "from sklearn.svm import LinearSVC, SVC\n",
    "from sklearn.calibration import CalibratedClassifierCV\n",
    "from sklearn.linear_model import LogisticRegression\n",
    "from sklearn import preprocessing, neighbors, grid_search, cross_validation,metrics\n",
    "import re\n",
    "\n",
    "from subprocess import check_output"
   ]
  },
  {
   "cell_type": "code",
   "execution_count": 21,
   "metadata": {
    "collapsed": false,
    "deletable": true,
    "editable": true
   },
   "outputs": [],
   "source": [
    "\n",
    "train_directory=\"./train/\"\n",
    "test_directory=\"./test1/\"\n",
    "\n",
    "def images(image_directory):\n",
    "    return [image_directory + image  for image in os.listdir(image_directory)]\n",
    "# 이미지 디렉토리에 있는 리스트 전부를 뿌려준다. 주소와 이미지 이름을 같이출력\n",
    "images(train_directory)\n",
    "\n",
    "# 테스트와 트레인 데이터 위치 지정 \n",
    "\n",
    "\n",
    "def extract_labels(file_names):\n",
    "    n=len(file_names)\n",
    "    y=np.zeros(n,dtype=np.int32)\n",
    "    \n",
    "    for i,filename in enumerate(file_names):# 캣에 0을 할당 개에 1할당\n",
    "        if 'cat'in str(filename):\n",
    "            y[i]=0\n",
    "        else:\n",
    "            y[i]=1\n",
    "            \n",
    "    return y\n",
    "\n",
    "def img_to_matrix(filename, verbose=False):# 이미지를 리사이즈하는 작업\n",
    "        \n",
    "    #이미지  파일명으로 파일을 불러와서 그걸 rgb픽셀 넘파이로 바꿔주는 작업\n",
    "    img = Image.open(filename).convert(\"L\")\n",
    "    # img = Image.fromarray(filename)\n",
    "    \n",
    "    img = img.resize((64,64),Image.ANTIALIAS)\n",
    "    #이미지 사이즈를 28,28 로 줄여준다.\n",
    "    img=img.filter(ImageFilter.GaussianBlur(255))\n",
    "    pix=img.histogram()\n",
    "   \n",
    "    return pix\n",
    "\n",
    "# Function to flatten numpy array\n",
    "def flatten_image(img):\n",
    "    \n",
    "    '''\n",
    "    takes in an (m, n) numpy array and flattens it \n",
    "    into an array of shape (1, m * n)\n",
    "    # 이미지를  1차원으로 펴는 작업'''\n",
    "    \n",
    "    img_wide = img.reshape(1, img.shape[0])\n",
    "    return img_wide[0]\n",
    "\n",
    "\n",
    "\n",
    "\n",
    "\n",
    "\n"
   ]
  },
  {
   "cell_type": "code",
   "execution_count": 22,
   "metadata": {
    "collapsed": false,
    "deletable": true,
    "editable": true
   },
   "outputs": [],
   "source": [
    "k=images(train_directory)"
   ]
  },
  {
   "cell_type": "code",
   "execution_count": 6,
   "metadata": {
    "collapsed": false,
    "deletable": true,
    "editable": true,
    "scrolled": true
   },
   "outputs": [
    {
     "data": {
      "text/plain": [
       "list"
      ]
     },
     "execution_count": 6,
     "metadata": {},
     "output_type": "execute_result"
    }
   ],
   "source": [
    "img_1=img_to_matrix(k[1])\n",
    "type(img_1)"
   ]
  },
  {
   "cell_type": "code",
   "execution_count": 7,
   "metadata": {
    "collapsed": false,
    "deletable": true,
    "editable": true,
    "scrolled": true
   },
   "outputs": [],
   "source": [
    "img_1=np.array(img_1)\n"
   ]
  },
  {
   "cell_type": "code",
   "execution_count": 40,
   "metadata": {
    "collapsed": false,
    "deletable": true,
    "editable": true
   },
   "outputs": [],
   "source": [
    "img_1=flatten_image(img_1)"
   ]
  },
  {
   "cell_type": "code",
   "execution_count": 8,
   "metadata": {
    "collapsed": false,
    "deletable": true,
    "editable": true
   },
   "outputs": [
    {
     "data": {
      "text/plain": [
       "(256,)"
      ]
     },
     "execution_count": 8,
     "metadata": {},
     "output_type": "execute_result"
    }
   ],
   "source": [
    "img_1.shape"
   ]
  },
  {
   "cell_type": "code",
   "execution_count": 48,
   "metadata": {
    "collapsed": false,
    "deletable": true,
    "editable": true
   },
   "outputs": [
    {
     "name": "stdout",
     "output_type": "stream",
     "text": [
      "25000\n",
      "Wall time: 3min 8s\n"
     ]
    }
   ],
   "source": [
    "\n",
    "%%time\n",
    "train_image_names=images(train_directory) #여기서 트레인y 라벨을 뽑아준다.\n",
    "\n",
    "train_y=extract_labels(train_image_names)\n",
    "np.save('train_y',train_y)\n",
    "\n",
    "# 트레이닝 데이타를 준비하자\n",
    "from PIL import Image\n",
    "train_data=[]\n",
    "for i in images(train_directory): #트레인데이터 파일 주소\n",
    "    img=img_to_matrix(i)\n",
    "    img=np.array(img)\n",
    "    img=flatten_image(img)\n",
    "    train_data.append(img)\n",
    "    \n",
    "    \n",
    "print (len(train_data))\n",
    "\n",
    "\n"
   ]
  },
  {
   "cell_type": "code",
   "execution_count": 49,
   "metadata": {
    "collapsed": false
   },
   "outputs": [],
   "source": [
    "train_x, test_x, y_train_, test_y = cross_validation.train_test_split(train_data, train_y, test_size=0.2, random_state=0)"
   ]
  },
  {
   "cell_type": "code",
   "execution_count": 50,
   "metadata": {
    "collapsed": false,
    "deletable": true,
    "editable": true
   },
   "outputs": [
    {
     "data": {
      "text/plain": [
       "KNeighborsClassifier(algorithm='auto', leaf_size=30, metric='minkowski',\n",
       "           metric_params=None, n_jobs=1, n_neighbors=5, p=2,\n",
       "           weights='uniform')"
      ]
     },
     "execution_count": 50,
     "metadata": {},
     "output_type": "execute_result"
    }
   ],
   "source": [
    "from sklearn.neighbors import KNeighborsClassifier\n",
    "knn = KNeighborsClassifier()\n",
    "knn.fit(train_x,y_train_)"
   ]
  },
  {
   "cell_type": "code",
   "execution_count": 51,
   "metadata": {
    "collapsed": false,
    "deletable": true,
    "editable": true,
    "scrolled": true
   },
   "outputs": [
    {
     "data": {
      "text/plain": [
       "array([1, 1, 0, ..., 1, 1, 1])"
      ]
     },
     "execution_count": 51,
     "metadata": {},
     "output_type": "execute_result"
    }
   ],
   "source": [
    "y_predict_knn = knn.predict(train_x)\n",
    "y_predict_knn"
   ]
  },
  {
   "cell_type": "code",
   "execution_count": 27,
   "metadata": {
    "collapsed": false,
    "deletable": true,
    "editable": true
   },
   "outputs": [
    {
     "data": {
      "text/plain": [
       "0.66764999999999997"
      ]
     },
     "execution_count": 27,
     "metadata": {},
     "output_type": "execute_result"
    }
   ],
   "source": [
    "\n",
    "## KNN: Accuracy\n",
    "knn_accuracy = np.where(y_predict_knn == y_train_, 1, 0).sum()/float(len(y_train_))\n",
    "knn_accuracy"
   ]
  },
  {
   "cell_type": "code",
   "execution_count": 52,
   "metadata": {
    "collapsed": false,
    "scrolled": false
   },
   "outputs": [
    {
     "name": "stdout",
     "output_type": "stream",
     "text": [
      "             precision    recall  f1-score   support\n",
      "\n",
      "          0       0.67      0.66      0.66     10004\n",
      "          1       0.66      0.68      0.67      9996\n",
      "\n",
      "avg / total       0.67      0.67      0.67     20000\n",
      "\n"
     ]
    }
   ],
   "source": [
    "from sklearn.metrics import classification_report\n",
    "print (classification_report(y_train_,y_predict_knn))"
   ]
  },
  {
   "cell_type": "code",
   "execution_count": 66,
   "metadata": {
    "collapsed": true
   },
   "outputs": [],
   "source": [
    "training_accuray=knn.score(train_x,y_train_)"
   ]
  },
  {
   "cell_type": "code",
   "execution_count": 67,
   "metadata": {
    "collapsed": false
   },
   "outputs": [
    {
     "data": {
      "text/plain": [
       "0.62909999999999999"
      ]
     },
     "execution_count": 67,
     "metadata": {},
     "output_type": "execute_result"
    }
   ],
   "source": [
    "training_accuray"
   ]
  },
  {
   "cell_type": "code",
   "execution_count": 136,
   "metadata": {
    "collapsed": false
   },
   "outputs": [
    {
     "data": {
      "image/png": "[encoded data removed]",
      "text/plain": [
       "<matplotlib.figure.Figure at 0x150a4ad0>"
      ]
     },
     "metadata": {},
     "output_type": "display_data"
    }
   ],
   "source": [
    "fpr, tpr, thresholds = metrics.roc_curve(y_train_,y_predict_knn)\n",
    "\n",
    "plt.figure()\n",
    "plt.plot(fpr, tpr, label = 'ROC curve (area = %0.2f)' % metrics.auc(fpr, tpr))\n",
    "plt.plot([0, 1], [0, 1], 'k--')\n",
    "plt.xlim([0, 1.01])\n",
    "plt.ylim([0, 1.01])\n",
    "plt.xlabel('FPR/Fall-out')\n",
    "plt.ylabel('TPR/Sensitivity')\n",
    "plt.title(\"Cats vs Dogs ROC\")\n",
    "plt.legend(loc = 'lower right')\n",
    "plt.savefig ('train.jpg', dpi=300, transparent=False)\n",
    "plt.show()"
   ]
  },
  {
   "cell_type": "code",
   "execution_count": 53,
   "metadata": {
    "collapsed": false,
    "scrolled": true
   },
   "outputs": [
    {
     "name": "stdout",
     "output_type": "stream",
     "text": [
      "             precision    recall  f1-score   support\n",
      "\n",
      "          0       0.50      0.49      0.50      2496\n",
      "          1       0.50      0.51      0.50      2504\n",
      "\n",
      "avg / total       0.50      0.50      0.50      5000\n",
      "\n"
     ]
    }
   ],
   "source": [
    "knn_test_y=knn.predict(test_x)\n",
    "print (classification_report(test_y,knn_test_y))"
   ]
  },
  {
   "cell_type": "code",
   "execution_count": 68,
   "metadata": {
    "collapsed": true
   },
   "outputs": [],
   "source": [
    "test_accuracy=knn.score(test_x,test_y)"
   ]
  },
  {
   "cell_type": "code",
   "execution_count": 69,
   "metadata": {
    "collapsed": false
   },
   "outputs": [
    {
     "data": {
      "text/plain": [
       "0.49859999999999999"
      ]
     },
     "execution_count": 69,
     "metadata": {},
     "output_type": "execute_result"
    }
   ],
   "source": [
    "test_accuracy"
   ]
  },
  {
   "cell_type": "code",
   "execution_count": 137,
   "metadata": {
    "collapsed": false
   },
   "outputs": [
    {
     "data": {
      "image/png": "[encoded data removed]",
      "text/plain": [
       "<matplotlib.figure.Figure at 0x39444610>"
      ]
     },
     "metadata": {},
     "output_type": "display_data"
    }
   ],
   "source": [
    "fpr, tpr, thresholds = metrics.roc_curve(test_y,knn_test_y)\n",
    "\n",
    "plt.figure()\n",
    "plt.plot(fpr, tpr, label = 'ROC curve (area = %0.2f)' % metrics.auc(fpr, tpr))\n",
    "plt.plot([0, 1], [0, 1], 'k--')\n",
    "plt.xlim([0, 1.01])\n",
    "plt.ylim([0, 1.01])\n",
    "plt.xlabel('FPR/Fall-out')\n",
    "plt.ylabel('TPR/Sensitivity')\n",
    "plt.title(\"Cats vs Dogs ROC\")\n",
    "plt.legend(loc = 'lower right')\n",
    "plt.savefig ('test.jpg', dpi=300, transparent=False)\n",
    "plt.show()"
   ]
  },
  {
   "cell_type": "code",
   "execution_count": 54,
   "metadata": {
    "collapsed": false
   },
   "outputs": [
    {
     "name": "stdout",
     "output_type": "stream",
     "text": [
      "             precision    recall  f1-score   support\n",
      "\n",
      "          0       0.64      0.62      0.63     12500\n",
      "          1       0.63      0.64      0.64     12500\n",
      "\n",
      "avg / total       0.63      0.63      0.63     25000\n",
      "\n"
     ]
    }
   ],
   "source": [
    "knn_model_y=knn.predict(train_data)\n",
    "print (classification_report(train_y,knn_model_y))"
   ]
  },
  {
   "cell_type": "code",
   "execution_count": 35,
   "metadata": {
    "collapsed": false
   },
   "outputs": [
    {
     "data": {
      "image/png": "[encoded data removed]",
      "text/plain": [
       "<matplotlib.figure.Figure at 0x12ece4d0>"
      ]
     },
     "metadata": {},
     "output_type": "display_data"
    }
   ],
   "source": [
    "fpr, tpr, thresholds = metrics.roc_curve(train_y,knn_model_y)\n",
    "\n",
    "plt.figure()\n",
    "plt.plot(fpr, tpr, label = 'ROC curve (area = %0.2f)' % metrics.auc(fpr, tpr))\n",
    "plt.plot([0, 1], [0, 1], 'k--')\n",
    "plt.xlim([0, 1.01])\n",
    "plt.ylim([0, 1.01])\n",
    "plt.xlabel('FPR/Fall-out')\n",
    "plt.ylabel('TPR/Sensitivity')\n",
    "plt.title(\"Cats vs Dogs ROC\")\n",
    "plt.legend(loc = 'lower right')\n",
    "plt.show()"
   ]
  },
  {
   "cell_type": "code",
   "execution_count": 39,
   "metadata": {
    "collapsed": true,
    "deletable": true,
    "editable": true
   },
   "outputs": [],
   "source": [
    "train_x=np.array(train_data)"
   ]
  },
  {
   "cell_type": "code",
   "execution_count": 40,
   "metadata": {
    "collapsed": false,
    "deletable": true,
    "editable": true
   },
   "outputs": [
    {
     "data": {
      "text/plain": [
       "(25000, 256)"
      ]
     },
     "execution_count": 40,
     "metadata": {},
     "output_type": "execute_result"
    }
   ],
   "source": [
    "train_x.shape"
   ]
  },
  {
   "cell_type": "code",
   "execution_count": null,
   "metadata": {
    "collapsed": true
   },
   "outputs": [],
   "source": []
  },
  {
   "cell_type": "code",
   "execution_count": 55,
   "metadata": {
    "collapsed": false,
    "deletable": true,
    "editable": true,
    "scrolled": true
   },
   "outputs": [
    {
     "data": {
      "text/plain": [
       "LinearSVC(C=1.0, class_weight=None, dual=True, fit_intercept=True,\n",
       "     intercept_scaling=1, loss='squared_hinge', max_iter=1000,\n",
       "     multi_class='ovr', penalty='l2', random_state=None, tol=0.0001,\n",
       "     verbose=0)"
      ]
     },
     "execution_count": 55,
     "metadata": {},
     "output_type": "execute_result"
    }
   ],
   "source": [
    "svm=SVR('linear')\n",
    "svm.fit(train_data,train_y)"
   ]
  },
  {
   "cell_type": "code",
   "execution_count": 56,
   "metadata": {
    "collapsed": true,
    "deletable": true,
    "editable": true
   },
   "outputs": [],
   "source": [
    "y_predict_svm = svm.predict(train_data)\n",
    "svm_accuracy = np.where(y_predict_svm == train_y, 1, 0).sum()/float(len(train_y))"
   ]
  },
  {
   "cell_type": "code",
   "execution_count": 57,
   "metadata": {
    "collapsed": false,
    "deletable": true,
    "editable": true
   },
   "outputs": [
    {
     "data": {
      "text/plain": [
       "0.51104000000000005"
      ]
     },
     "execution_count": 57,
     "metadata": {},
     "output_type": "execute_result"
    }
   ],
   "source": [
    "svm_accuracy"
   ]
  },
  {
   "cell_type": "code",
   "execution_count": 59,
   "metadata": {
    "collapsed": false,
    "deletable": true,
    "editable": true,
    "scrolled": false
   },
   "outputs": [
    {
     "name": "stdout",
     "output_type": "stream",
     "text": [
      "             precision    recall  f1-score   support\n",
      "\n",
      "          0       0.51      0.49      0.50     12500\n",
      "          1       0.51      0.54      0.52     12500\n",
      "\n",
      "avg / total       0.51      0.51      0.51     25000\n",
      "\n"
     ]
    }
   ],
   "source": [
    "from sklearn.metrics import classification_report\n",
    "print (classification_report(train_y,y_predict_svm))"
   ]
  },
  {
   "cell_type": "code",
   "execution_count": 87,
   "metadata": {
    "collapsed": false,
    "deletable": true,
    "editable": true
   },
   "outputs": [
    {
     "name": "stdout",
     "output_type": "stream",
     "text": [
      "             precision    recall  f1-score   support\n",
      "\n",
      "          0       0.86      0.87      0.87     10004\n",
      "          1       0.87      0.86      0.86      9996\n",
      "\n",
      "avg / total       0.86      0.86      0.86     20000\n",
      "\n",
      "             precision    recall  f1-score   support\n",
      "\n",
      "          0       0.63      0.95      0.76     10004\n",
      "          1       0.90      0.45      0.60      9996\n",
      "\n",
      "avg / total       0.77      0.70      0.68     20000\n",
      "\n",
      "             precision    recall  f1-score   support\n",
      "\n",
      "          0       0.71      0.71      0.71     10004\n",
      "          1       0.71      0.71      0.71      9996\n",
      "\n",
      "avg / total       0.71      0.71      0.71     20000\n",
      "\n",
      "             precision    recall  f1-score   support\n",
      "\n",
      "          0       0.62      0.85      0.71     10004\n",
      "          1       0.76      0.47      0.58      9996\n",
      "\n",
      "avg / total       0.69      0.66      0.65     20000\n",
      "\n",
      "             precision    recall  f1-score   support\n",
      "\n",
      "          0       0.67      0.66      0.66     10004\n",
      "          1       0.66      0.68      0.67      9996\n",
      "\n",
      "avg / total       0.67      0.67      0.67     20000\n",
      "\n",
      "             precision    recall  f1-score   support\n",
      "\n",
      "          0       0.61      0.78      0.69     10004\n",
      "          1       0.70      0.49      0.58      9996\n",
      "\n",
      "avg / total       0.65      0.64      0.63     20000\n",
      "\n",
      "             precision    recall  f1-score   support\n",
      "\n",
      "          0       0.65      0.63      0.64     10004\n",
      "          1       0.64      0.65      0.65      9996\n",
      "\n",
      "avg / total       0.64      0.64      0.64     20000\n",
      "\n",
      "             precision    recall  f1-score   support\n",
      "\n",
      "          0       0.61      0.75      0.67     10004\n",
      "          1       0.67      0.51      0.58      9996\n",
      "\n",
      "avg / total       0.64      0.63      0.62     20000\n",
      "\n",
      "             precision    recall  f1-score   support\n",
      "\n",
      "          0       0.63      0.63      0.63     10004\n",
      "          1       0.63      0.63      0.63      9996\n",
      "\n",
      "avg / total       0.63      0.63      0.63     20000\n",
      "\n"
     ]
    },
    {
     "data": {
      "text/plain": [
       "[(1, 0.49939686369119424),\n",
       " (2, 0.49939686369119424),\n",
       " (3, 0.49939686369119424),\n",
       " (4, 0.49939686369119424),\n",
       " (5, 0.49939686369119424),\n",
       " (6, 0.49939686369119424),\n",
       " (7, 0.49939686369119424),\n",
       " (8, 0.49939686369119424),\n",
       " (9, 0.49939686369119424)]"
      ]
     },
     "execution_count": 87,
     "metadata": {},
     "output_type": "execute_result"
    }
   ],
   "source": [
    "from sklearn import metrics\n",
    "from sklearn.metrics import classification_report\n",
    "k_range=range(1,10)\n",
    "precision_scores=[]\n",
    "accuracy_train=[]\n",
    "\n",
    "for k in k_range:\n",
    "    knn=KNeighborsClassifier(n_neighbors=k)\n",
    "    knn.fit(train_x,y_train_)\n",
    "    y_pred=knn.predict(train_x)\n",
    "    \n",
    "    print (classification_report(y_train_,y_pred))\n",
    "    TP = conf_mat[1,1]\n",
    "    TN = conf_mat[0,0]\n",
    "    FP = conf_mat[0,1]\n",
    "    FN = conf_mat[1,0]\n",
    "    precision_scores.append(TP/float((FP + TP)))\n",
    "    knn_accuracy = np.where(y_pred == y_train_, 1, 0).sum()/float(len(y_train_))\n",
    "    accuracy_train.append(knn_accuracy)\n",
    "list(zip(k_range, precision_scores))"
   ]
  },
  {
   "cell_type": "code",
   "execution_count": 65,
   "metadata": {
    "collapsed": false,
    "deletable": true,
    "editable": true
   },
   "outputs": [
    {
     "name": "stdout",
     "output_type": "stream",
     "text": [
      "[[1261 1235]\n",
      " [1265 1239]]\n",
      "             precision    recall  f1-score   support\n",
      "\n",
      "          0       0.50      0.51      0.50      2496\n",
      "          1       0.50      0.49      0.50      2504\n",
      "\n",
      "avg / total       0.50      0.50      0.50      5000\n",
      "\n",
      "if k =1 precision is 0.500808407437\n",
      "[[1889  607]\n",
      " [1886  618]]\n",
      "             precision    recall  f1-score   support\n",
      "\n",
      "          0       0.50      0.76      0.60      2496\n",
      "          1       0.50      0.25      0.33      2504\n",
      "\n",
      "avg / total       0.50      0.50      0.47      5000\n",
      "\n",
      "if k =2 precision is 0.504489795918\n",
      "[[1258 1238]\n",
      " [1243 1261]]\n",
      "             precision    recall  f1-score   support\n",
      "\n",
      "          0       0.50      0.50      0.50      2496\n",
      "          1       0.50      0.50      0.50      2504\n",
      "\n",
      "avg / total       0.50      0.50      0.50      5000\n",
      "\n",
      "if k =3 precision is 0.504601840736\n",
      "[[1746  750]\n",
      " [1736  768]]\n",
      "             precision    recall  f1-score   support\n",
      "\n",
      "          0       0.50      0.70      0.58      2496\n",
      "          1       0.51      0.31      0.38      2504\n",
      "\n",
      "avg / total       0.50      0.50      0.48      5000\n",
      "\n",
      "if k =4 precision is 0.505928853755\n",
      "[[1231 1265]\n",
      " [1235 1269]]\n",
      "             precision    recall  f1-score   support\n",
      "\n",
      "          0       0.50      0.49      0.50      2496\n",
      "          1       0.50      0.51      0.50      2504\n",
      "\n",
      "avg / total       0.50      0.50      0.50      5000\n",
      "\n",
      "if k =5 precision is 0.500789265983\n",
      "[[1645  851]\n",
      " [1624  880]]\n",
      "             precision    recall  f1-score   support\n",
      "\n",
      "          0       0.50      0.66      0.57      2496\n",
      "          1       0.51      0.35      0.42      2504\n",
      "\n",
      "avg / total       0.51      0.51      0.49      5000\n",
      "\n",
      "if k =6 precision is 0.50837666089\n",
      "[[1260 1236]\n",
      " [1227 1277]]\n",
      "             precision    recall  f1-score   support\n",
      "\n",
      "          0       0.51      0.50      0.51      2496\n",
      "          1       0.51      0.51      0.51      2504\n",
      "\n",
      "avg / total       0.51      0.51      0.51      5000\n",
      "\n",
      "if k =7 precision is 0.508157580581\n",
      "[[1569  927]\n",
      " [1548  956]]\n",
      "             precision    recall  f1-score   support\n",
      "\n",
      "          0       0.50      0.63      0.56      2496\n",
      "          1       0.51      0.38      0.44      2504\n",
      "\n",
      "avg / total       0.51      0.51      0.50      5000\n",
      "\n",
      "if k =8 precision is 0.507700477961\n",
      "[[1251 1245]\n",
      " [1262 1242]]\n",
      "             precision    recall  f1-score   support\n",
      "\n",
      "          0       0.50      0.50      0.50      2496\n",
      "          1       0.50      0.50      0.50      2504\n",
      "\n",
      "avg / total       0.50      0.50      0.50      5000\n",
      "\n",
      "if k =9 precision is 0.499396863691\n"
     ]
    },
    {
     "data": {
      "text/plain": [
       "[(1, 0.50080840743734845),\n",
       " (2, 0.5044897959183674),\n",
       " (3, 0.50460184073629455),\n",
       " (4, 0.50592885375494068),\n",
       " (5, 0.50078926598263618),\n",
       " (6, 0.50837666088965916),\n",
       " (7, 0.50815758058097893),\n",
       " (8, 0.50770047796070106),\n",
       " (9, 0.49939686369119424)]"
      ]
     },
     "execution_count": 65,
     "metadata": {},
     "output_type": "execute_result"
    }
   ],
   "source": [
    "from sklearn import metrics\n",
    "from sklearn.metrics import classification_report\n",
    "k_range=range(1,10)\n",
    "precision_scores=[]\n",
    "accuracy_test=[]\n",
    "for k in k_range:\n",
    "    knn=KNeighborsClassifier(n_neighbors=k)\n",
    "    knn.fit(train_x,y_train_)\n",
    "    y_pred=knn.predict(test_x)\n",
    "    conf_mat=metrics.confusion_matrix(test_y,y_pred)\n",
    "    print (conf_mat)\n",
    "    print (classification_report(test_y,y_pred))\n",
    "    TP = conf_mat[1,1]\n",
    "    TN = conf_mat[0,0]\n",
    "    FP = conf_mat[0,1]\n",
    "    FN = conf_mat[1,0]\n",
    "    print (\"if k ={} precision is {}\".format(k,(TP/float((FP + TP)))))\n",
    "    precision_scores.append(TP/float((FP + TP)))\n",
    "    knn_accuracy = np.where(y_pred == test_y, 1, 0).sum()/float(len(test_y))\n",
    "    accuracy_test.append(knn_accuracy)\n",
    "    \n",
    "list(zip(k_range, precision_scores))"
   ]
  },
  {
   "cell_type": "code",
   "execution_count": 111,
   "metadata": {
    "collapsed": false,
    "deletable": true,
    "editable": true
   },
   "outputs": [
    {
     "name": "stdout",
     "output_type": "stream",
     "text": [
      "[0.86480000000000001, 0.70045000000000002, 0.70740000000000003, 0.66000000000000003, 0.66764999999999997, 0.63985000000000003, 0.64259999999999995, 0.63, 0.62909999999999999]\n",
      "[0.5, 0.50139999999999996, 0.50380000000000003, 0.50280000000000002, 0.5, 0.505, 0.50739999999999996, 0.505, 0.49859999999999999]\n"
     ]
    }
   ],
   "source": [
    "k=[1,3,5,7,9]\n",
    "print accuracy_train\n",
    "print accuracy_test\n"
   ]
  },
  {
   "cell_type": "code",
   "execution_count": 113,
   "metadata": {
    "collapsed": false,
    "deletable": true,
    "editable": true
   },
   "outputs": [],
   "source": [
    "train=[]\n",
    "for i in range(10):\n",
    "    if i%2==0:\n",
    "        train.append(accuracy_train[i])\n",
    "        \n",
    "test=[]\n",
    "for i in range(10):\n",
    "    if i%2==0:\n",
    "        test.append(accuracy_test[i])"
   ]
  },
  {
   "cell_type": "code",
   "execution_count": 122,
   "metadata": {
    "collapsed": false,
    "deletable": true,
    "editable": true
   },
   "outputs": [
    {
     "data": {
      "text/plain": [
       "[0.86480000000000001,\n",
       " 0.70740000000000003,\n",
       " 0.66764999999999997,\n",
       " 0.64259999999999995,\n",
       " 0.62909999999999999]"
      ]
     },
     "execution_count": 122,
     "metadata": {},
     "output_type": "execute_result"
    }
   ],
   "source": [
    "train"
   ]
  },
  {
   "cell_type": "code",
   "execution_count": 123,
   "metadata": {
    "collapsed": false,
    "deletable": true,
    "editable": true,
    "scrolled": true
   },
   "outputs": [
    {
     "data": {
      "text/plain": [
       "[0.5, 0.50380000000000003, 0.5, 0.50739999999999996, 0.49859999999999999]"
      ]
     },
     "execution_count": 123,
     "metadata": {},
     "output_type": "execute_result"
    }
   ],
   "source": [
    "test"
   ]
  },
  {
   "cell_type": "code",
   "execution_count": 116,
   "metadata": {
    "collapsed": false,
    "deletable": true,
    "editable": true
   },
   "outputs": [
    {
     "data": {
      "text/plain": [
       "[0, 1, 2, 3, 4, 5, 6, 7, 8, 9]"
      ]
     },
     "execution_count": 116,
     "metadata": {},
     "output_type": "execute_result"
    }
   ],
   "source": [
    "range(10)"
   ]
  },
  {
   "cell_type": "code",
   "execution_count": 120,
   "metadata": {
    "collapsed": true,
    "deletable": true,
    "editable": true
   },
   "outputs": [],
   "source": [
    "import pandas as pd\n"
   ]
  },
  {
   "cell_type": "code",
   "execution_count": 124,
   "metadata": {
    "collapsed": false,
    "deletable": true,
    "editable": true,
    "scrolled": true
   },
   "outputs": [
    {
     "data": {
      "text/html": [
       "<div>\n",
       "<table border=\"1\" class=\"dataframe\">\n",
       "  <thead>\n",
       "    <tr style=\"text-align: right;\">\n",
       "      <th></th>\n",
       "      <th>test</th>\n",
       "      <th>train</th>\n",
       "    </tr>\n",
       "  </thead>\n",
       "  <tbody>\n",
       "    <tr>\n",
       "      <th>0</th>\n",
       "      <td>0.5000</td>\n",
       "      <td>0.86480</td>\n",
       "    </tr>\n",
       "    <tr>\n",
       "      <th>1</th>\n",
       "      <td>0.5038</td>\n",
       "      <td>0.70740</td>\n",
       "    </tr>\n",
       "    <tr>\n",
       "      <th>2</th>\n",
       "      <td>0.5000</td>\n",
       "      <td>0.66765</td>\n",
       "    </tr>\n",
       "    <tr>\n",
       "      <th>3</th>\n",
       "      <td>0.5074</td>\n",
       "      <td>0.64260</td>\n",
       "    </tr>\n",
       "    <tr>\n",
       "      <th>4</th>\n",
       "      <td>0.4986</td>\n",
       "      <td>0.62910</td>\n",
       "    </tr>\n",
       "  </tbody>\n",
       "</table>\n",
       "</div>"
      ],
      "text/plain": [
       "     test    train\n",
       "0  0.5000  0.86480\n",
       "1  0.5038  0.70740\n",
       "2  0.5000  0.66765\n",
       "3  0.5074  0.64260\n",
       "4  0.4986  0.62910"
      ]
     },
     "execution_count": 124,
     "metadata": {},
     "output_type": "execute_result"
    }
   ],
   "source": [
    "al=pd.DataFrame({\"train\":train,\"test\":test})\n",
    "al"
   ]
  },
  {
   "cell_type": "code",
   "execution_count": 92,
   "metadata": {
    "collapsed": false,
    "deletable": true,
    "editable": true,
    "scrolled": false
   },
   "outputs": [
    {
     "data": {
      "text/html": [
       "<div>\n",
       "<table border=\"1\" class=\"dataframe\">\n",
       "  <thead>\n",
       "    <tr style=\"text-align: right;\">\n",
       "      <th></th>\n",
       "      <th>test</th>\n",
       "      <th>train</th>\n",
       "    </tr>\n",
       "  </thead>\n",
       "  <tbody>\n",
       "    <tr>\n",
       "      <th>1</th>\n",
       "      <td>0.86480</td>\n",
       "      <td>0.5000</td>\n",
       "    </tr>\n",
       "    <tr>\n",
       "      <th>3</th>\n",
       "      <td>0.70740</td>\n",
       "      <td>0.5038</td>\n",
       "    </tr>\n",
       "    <tr>\n",
       "      <th>5</th>\n",
       "      <td>0.66765</td>\n",
       "      <td>0.5000</td>\n",
       "    </tr>\n",
       "    <tr>\n",
       "      <th>7</th>\n",
       "      <td>0.64260</td>\n",
       "      <td>0.5074</td>\n",
       "    </tr>\n",
       "    <tr>\n",
       "      <th>9</th>\n",
       "      <td>0.62910</td>\n",
       "      <td>0.4986</td>\n",
       "    </tr>\n",
       "  </tbody>\n",
       "</table>\n",
       "</div>"
      ],
      "text/plain": [
       "      test   train\n",
       "1  0.86480  0.5000\n",
       "3  0.70740  0.5038\n",
       "5  0.66765  0.5000\n",
       "7  0.64260  0.5074\n",
       "9  0.62910  0.4986"
      ]
     },
     "execution_count": 92,
     "metadata": {},
     "output_type": "execute_result"
    }
   ],
   "source": [
    "bc= pd.DataFrame({ \"test\":test,\"train\":train },index=[1,3,5,7,9])\n",
    "bc"
   ]
  },
  {
   "cell_type": "code",
   "execution_count": 125,
   "metadata": {
    "collapsed": false,
    "deletable": true,
    "editable": true
   },
   "outputs": [
    {
     "data": {
      "text/html": [
       "<div>\n",
       "<table border=\"1\" class=\"dataframe\">\n",
       "  <thead>\n",
       "    <tr style=\"text-align: right;\">\n",
       "      <th></th>\n",
       "      <th>test</th>\n",
       "      <th>train</th>\n",
       "    </tr>\n",
       "  </thead>\n",
       "  <tbody>\n",
       "    <tr>\n",
       "      <th>0</th>\n",
       "      <td>0.5000</td>\n",
       "      <td>0.86480</td>\n",
       "    </tr>\n",
       "    <tr>\n",
       "      <th>1</th>\n",
       "      <td>0.5038</td>\n",
       "      <td>0.70740</td>\n",
       "    </tr>\n",
       "    <tr>\n",
       "      <th>2</th>\n",
       "      <td>0.5000</td>\n",
       "      <td>0.66765</td>\n",
       "    </tr>\n",
       "    <tr>\n",
       "      <th>3</th>\n",
       "      <td>0.5074</td>\n",
       "      <td>0.64260</td>\n",
       "    </tr>\n",
       "    <tr>\n",
       "      <th>4</th>\n",
       "      <td>0.4986</td>\n",
       "      <td>0.62910</td>\n",
       "    </tr>\n",
       "  </tbody>\n",
       "</table>\n",
       "</div>"
      ],
      "text/plain": [
       "     test    train\n",
       "0  0.5000  0.86480\n",
       "1  0.5038  0.70740\n",
       "2  0.5000  0.66765\n",
       "3  0.5074  0.64260\n",
       "4  0.4986  0.62910"
      ]
     },
     "execution_count": 125,
     "metadata": {},
     "output_type": "execute_result"
    }
   ],
   "source": [
    "frame2=pd.DataFrame(al,columns=[\"test\",\"train\"])\n",
    "frame2"
   ]
  },
  {
   "cell_type": "code",
   "execution_count": 94,
   "metadata": {
    "collapsed": false,
    "deletable": true,
    "editable": true
   },
   "outputs": [
    {
     "data": {
      "text/html": [
       "<div>\n",
       "<table border=\"1\" class=\"dataframe\">\n",
       "  <thead>\n",
       "    <tr style=\"text-align: right;\">\n",
       "      <th></th>\n",
       "      <th>train</th>\n",
       "      <th>test</th>\n",
       "    </tr>\n",
       "  </thead>\n",
       "  <tbody>\n",
       "    <tr>\n",
       "      <th>1</th>\n",
       "      <td>0.5000</td>\n",
       "      <td>0.86480</td>\n",
       "    </tr>\n",
       "    <tr>\n",
       "      <th>3</th>\n",
       "      <td>0.5038</td>\n",
       "      <td>0.70740</td>\n",
       "    </tr>\n",
       "    <tr>\n",
       "      <th>5</th>\n",
       "      <td>0.5000</td>\n",
       "      <td>0.66765</td>\n",
       "    </tr>\n",
       "    <tr>\n",
       "      <th>7</th>\n",
       "      <td>0.5074</td>\n",
       "      <td>0.64260</td>\n",
       "    </tr>\n",
       "    <tr>\n",
       "      <th>9</th>\n",
       "      <td>0.4986</td>\n",
       "      <td>0.62910</td>\n",
       "    </tr>\n",
       "  </tbody>\n",
       "</table>\n",
       "</div>"
      ],
      "text/plain": [
       "    train     test\n",
       "1  0.5000  0.86480\n",
       "3  0.5038  0.70740\n",
       "5  0.5000  0.66765\n",
       "7  0.5074  0.64260\n",
       "9  0.4986  0.62910"
      ]
     },
     "execution_count": 94,
     "metadata": {},
     "output_type": "execute_result"
    }
   ],
   "source": [
    "frame2"
   ]
  },
  {
   "cell_type": "code",
   "execution_count": 126,
   "metadata": {
    "collapsed": false,
    "deletable": true,
    "editable": true
   },
   "outputs": [
    {
     "data": {
      "text/html": [
       "<div>\n",
       "<table border=\"1\" class=\"dataframe\">\n",
       "  <thead>\n",
       "    <tr style=\"text-align: right;\">\n",
       "      <th></th>\n",
       "      <th>test</th>\n",
       "      <th>train</th>\n",
       "    </tr>\n",
       "  </thead>\n",
       "  <tbody>\n",
       "    <tr>\n",
       "      <th>0</th>\n",
       "      <td>0.5000</td>\n",
       "      <td>0.86480</td>\n",
       "    </tr>\n",
       "    <tr>\n",
       "      <th>1</th>\n",
       "      <td>0.5038</td>\n",
       "      <td>0.70740</td>\n",
       "    </tr>\n",
       "    <tr>\n",
       "      <th>2</th>\n",
       "      <td>0.5000</td>\n",
       "      <td>0.66765</td>\n",
       "    </tr>\n",
       "    <tr>\n",
       "      <th>3</th>\n",
       "      <td>0.5074</td>\n",
       "      <td>0.64260</td>\n",
       "    </tr>\n",
       "    <tr>\n",
       "      <th>4</th>\n",
       "      <td>0.4986</td>\n",
       "      <td>0.62910</td>\n",
       "    </tr>\n",
       "  </tbody>\n",
       "</table>\n",
       "</div>"
      ],
      "text/plain": [
       "     test    train\n",
       "0  0.5000  0.86480\n",
       "1  0.5038  0.70740\n",
       "2  0.5000  0.66765\n",
       "3  0.5074  0.64260\n",
       "4  0.4986  0.62910"
      ]
     },
     "execution_count": 126,
     "metadata": {},
     "output_type": "execute_result"
    }
   ],
   "source": [
    "al"
   ]
  },
  {
   "cell_type": "code",
   "execution_count": 127,
   "metadata": {
    "collapsed": false,
    "deletable": true,
    "editable": true
   },
   "outputs": [],
   "source": [
    "frame2=frame2.stack()"
   ]
  },
  {
   "cell_type": "code",
   "execution_count": 129,
   "metadata": {
    "collapsed": false,
    "deletable": true,
    "editable": true
   },
   "outputs": [
    {
     "data": {
      "text/plain": [
       "0  test     0.50000\n",
       "   train    0.86480\n",
       "1  test     0.50380\n",
       "   train    0.70740\n",
       "2  test     0.50000\n",
       "   train    0.66765\n",
       "3  test     0.50740\n",
       "   train    0.64260\n",
       "4  test     0.49860\n",
       "   train    0.62910\n",
       "dtype: float64"
      ]
     },
     "execution_count": 129,
     "metadata": {},
     "output_type": "execute_result"
    }
   ],
   "source": [
    "frame2"
   ]
  },
  {
   "cell_type": "code",
   "execution_count": 130,
   "metadata": {
    "collapsed": false,
    "deletable": true,
    "editable": true
   },
   "outputs": [],
   "source": [
    "frame2.columns = [\"K-value\", \"type\", \"accuracy\"]"
   ]
  },
  {
   "cell_type": "code",
   "execution_count": 131,
   "metadata": {
    "collapsed": true,
    "deletable": true,
    "editable": true
   },
   "outputs": [],
   "source": [
    "import seaborn as sns"
   ]
  },
  {
   "cell_type": "code",
   "execution_count": 132,
   "metadata": {
    "collapsed": false,
    "deletable": true,
    "editable": true
   },
   "outputs": [],
   "source": [
    "frame2=frame2.reset_index()"
   ]
  },
  {
   "cell_type": "code",
   "execution_count": 133,
   "metadata": {
    "collapsed": true,
    "deletable": true,
    "editable": true
   },
   "outputs": [],
   "source": [
    "frame2.columns = [\"K-value\", \"type\", \"accuracy\"]"
   ]
  },
  {
   "cell_type": "code",
   "execution_count": 134,
   "metadata": {
    "collapsed": false,
    "deletable": true,
    "editable": true
   },
   "outputs": [
    {
     "data": {
      "text/html": [
       "<div>\n",
       "<table border=\"1\" class=\"dataframe\">\n",
       "  <thead>\n",
       "    <tr style=\"text-align: right;\">\n",
       "      <th></th>\n",
       "      <th>K-value</th>\n",
       "      <th>type</th>\n",
       "      <th>accuracy</th>\n",
       "    </tr>\n",
       "  </thead>\n",
       "  <tbody>\n",
       "    <tr>\n",
       "      <th>0</th>\n",
       "      <td>0</td>\n",
       "      <td>test</td>\n",
       "      <td>0.50000</td>\n",
       "    </tr>\n",
       "    <tr>\n",
       "      <th>1</th>\n",
       "      <td>0</td>\n",
       "      <td>train</td>\n",
       "      <td>0.86480</td>\n",
       "    </tr>\n",
       "    <tr>\n",
       "      <th>2</th>\n",
       "      <td>1</td>\n",
       "      <td>test</td>\n",
       "      <td>0.50380</td>\n",
       "    </tr>\n",
       "    <tr>\n",
       "      <th>3</th>\n",
       "      <td>1</td>\n",
       "      <td>train</td>\n",
       "      <td>0.70740</td>\n",
       "    </tr>\n",
       "    <tr>\n",
       "      <th>4</th>\n",
       "      <td>2</td>\n",
       "      <td>test</td>\n",
       "      <td>0.50000</td>\n",
       "    </tr>\n",
       "    <tr>\n",
       "      <th>5</th>\n",
       "      <td>2</td>\n",
       "      <td>train</td>\n",
       "      <td>0.66765</td>\n",
       "    </tr>\n",
       "    <tr>\n",
       "      <th>6</th>\n",
       "      <td>3</td>\n",
       "      <td>test</td>\n",
       "      <td>0.50740</td>\n",
       "    </tr>\n",
       "    <tr>\n",
       "      <th>7</th>\n",
       "      <td>3</td>\n",
       "      <td>train</td>\n",
       "      <td>0.64260</td>\n",
       "    </tr>\n",
       "    <tr>\n",
       "      <th>8</th>\n",
       "      <td>4</td>\n",
       "      <td>test</td>\n",
       "      <td>0.49860</td>\n",
       "    </tr>\n",
       "    <tr>\n",
       "      <th>9</th>\n",
       "      <td>4</td>\n",
       "      <td>train</td>\n",
       "      <td>0.62910</td>\n",
       "    </tr>\n",
       "  </tbody>\n",
       "</table>\n",
       "</div>"
      ],
      "text/plain": [
       "   K-value   type  accuracy\n",
       "0        0   test   0.50000\n",
       "1        0  train   0.86480\n",
       "2        1   test   0.50380\n",
       "3        1  train   0.70740\n",
       "4        2   test   0.50000\n",
       "5        2  train   0.66765\n",
       "6        3   test   0.50740\n",
       "7        3  train   0.64260\n",
       "8        4   test   0.49860\n",
       "9        4  train   0.62910"
      ]
     },
     "execution_count": 134,
     "metadata": {},
     "output_type": "execute_result"
    }
   ],
   "source": [
    "frame2"
   ]
  },
  {
   "cell_type": "code",
   "execution_count": 135,
   "metadata": {
    "collapsed": false,
    "deletable": true,
    "editable": true,
    "scrolled": false
   },
   "outputs": [
    {
     "data": {
      "image/png": "[encoded data removed]",
      "text/plain": [
       "<matplotlib.figure.Figure at 0x1be02ad0>"
      ]
     },
     "metadata": {},
     "output_type": "display_data"
    }
   ],
   "source": [
    "import matplotlib.pyplot as plt\n",
    "\n",
    "fig = plt.figure(figsize=(6,4))\n",
    "plt.title('model accuracy ')\n",
    "\n",
    "sns.barplot(x=\"K-value\", y=\"accuracy\", hue=\"type\", data=frame2)\n",
    "plt.axhline(y=0.5,c='r',ls=\"--\")\n",
    "plt.ylim(0,1)\n",
    "plt.savefig ('knn_accuracy1.jpg', dpi=300, transparent=False)\n",
    "plt.show()"
   ]
  },
  {
   "cell_type": "code",
   "execution_count": 154,
   "metadata": {
    "collapsed": false
   },
   "outputs": [
    {
     "data": {
      "text/plain": [
       "SVR(C=0.0001, cache_size=200, coef0=0.0, degree=3, epsilon=0.1, gamma='auto',\n",
       "  kernel='linear', max_iter=-1, shrinking=True, tol=0.001, verbose=False)"
      ]
     },
     "execution_count": 154,
     "metadata": {},
     "output_type": "execute_result"
    }
   ],
   "source": [
    "svm=SVR(kernel='linear',C=0.0001)\n",
    "svm.fit(train_x,y_train_)"
   ]
  },
  {
   "cell_type": "code",
   "execution_count": 155,
   "metadata": {
    "collapsed": true
   },
   "outputs": [],
   "source": [
    "svm_y=svm.predict(test_x)"
   ]
  },
  {
   "cell_type": "code",
   "execution_count": 163,
   "metadata": {
    "collapsed": false
   },
   "outputs": [],
   "source": [
    "svm_k=[]\n",
    "for a in svm_y:\n",
    "    if a>0.5:\n",
    "        svm_k.append(1)\n",
    "    else :\n",
    "        svm_k.append(0)"
   ]
  },
  {
   "cell_type": "code",
   "execution_count": 164,
   "metadata": {
    "collapsed": false,
    "scrolled": true
   },
   "outputs": [
    {
     "data": {
      "text/plain": [
       "5000"
      ]
     },
     "execution_count": 164,
     "metadata": {},
     "output_type": "execute_result"
    }
   ],
   "source": [
    "len(svm_k)"
   ]
  },
  {
   "cell_type": "code",
   "execution_count": 161,
   "metadata": {
    "collapsed": false
   },
   "outputs": [
    {
     "data": {
      "text/plain": [
       "5000"
      ]
     },
     "execution_count": 161,
     "metadata": {},
     "output_type": "execute_result"
    }
   ],
   "source": [
    "len(test_x)"
   ]
  },
  {
   "cell_type": "code",
   "execution_count": 165,
   "metadata": {
    "collapsed": false,
    "scrolled": true
   },
   "outputs": [
    {
     "name": "stdout",
     "output_type": "stream",
     "text": [
      "             precision    recall  f1-score   support\n",
      "\n",
      "          0       0.52      0.47      0.50      2496\n",
      "          1       0.52      0.57      0.54      2504\n",
      "\n",
      "avg / total       0.52      0.52      0.52      5000\n",
      "\n"
     ]
    }
   ],
   "source": [
    "print (classification_report(test_y,svm_k))"
   ]
  },
  {
   "cell_type": "code",
   "execution_count": 153,
   "metadata": {
    "collapsed": false
   },
   "outputs": [
    {
     "ename": "SyntaxError",
     "evalue": "non-keyword arg after keyword arg (<ipython-input-153-8c067aabac95>, line 8)",
     "output_type": "error",
     "traceback": [
      "\u001b[1;36m  File \u001b[1;32m\"<ipython-input-153-8c067aabac95>\"\u001b[1;36m, line \u001b[1;32m8\u001b[0m\n\u001b[1;33m    gs = GridSearchCV(estimator=svc, param_range,n_jobs=2,cv=5,scoring=\"accuracy\")\u001b[0m\n\u001b[1;31mSyntaxError\u001b[0m\u001b[1;31m:\u001b[0m non-keyword arg after keyword arg\n"
     ]
    }
   ],
   "source": [
    "from sklearn.grid_search import GridSearchCV\n",
    "\n",
    "\n",
    "\n",
    "param_range = {'kernel':('linear','rbf'),\n",
    "               'C':[0.0001, 0.001, 0.01, 0.1, 1.0, 10.0, 100.0, 1000.0]}\n",
    "svc=SVR()\n",
    "gs = GridSearchCV(estimator=svc, param_range,n_jobs=2,cv=5,scoring=\"accuracy\")\n",
    "%time gs = gs.fit(train_x, y_train_)"
   ]
  }
 ],
 "metadata": {
  "kernelspec": {
   "display_name": "Python 2",
   "language": "python",
   "name": "python2"
  },
  "language_info": {
   "codemirror_mode": {
    "name": "ipython",
    "version": 2
   },
   "file_extension": ".py",
   "mimetype": "text/x-python",
   "name": "python",
   "nbconvert_exporter": "python",
   "pygments_lexer": "ipython2",
   "version": "2.7.13"
  }
 },
 "nbformat": 4,
 "nbformat_minor": 2
}
