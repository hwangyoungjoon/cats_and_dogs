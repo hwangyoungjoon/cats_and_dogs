{
 "cells": [
  {
   "cell_type": "markdown",
   "metadata": {
    "deletable": true,
    "editable": true
   },
   "source": [
    "# knn_final_report"
   ]
  },
  {
   "cell_type": "code",
   "execution_count": 1,
   "metadata": {
    "collapsed": true,
    "deletable": true,
    "editable": true
   },
   "outputs": [],
   "source": [
    "import numpy as np\n",
    "from PIL import Image\n",
    "import os\n",
    "import pandas as pd\n",
    "import matplotlib.pyplot as plt\n",
    "import seaborn\n",
    "import statsmodels.formula.api as smf    "
   ]
  },
  {
   "cell_type": "code",
   "execution_count": 3,
   "metadata": {
    "collapsed": false,
    "deletable": true,
    "editable": true
   },
   "outputs": [
    {
     "data": {
      "text/plain": [
       "'import cv2\\nim = cv2.imread(\"abc.tiff\")\\nprint type(im)'"
      ]
     },
     "execution_count": 3,
     "metadata": {},
     "output_type": "execute_result"
    }
   ],
   "source": [
    "import cv2\n",
    "\"\"\"import cv2\n",
    "im = cv2.imread(\"abc.tiff\")\n",
    "print type(im)\"\"\""
   ]
  },
  {
   "cell_type": "markdown",
   "metadata": {
    "deletable": true,
    "editable": true
   },
   "source": [
    "# Preparing data"
   ]
  },
  {
   "cell_type": "code",
   "execution_count": 3,
   "metadata": {
    "collapsed": true,
    "deletable": true,
    "editable": true
   },
   "outputs": [],
   "source": [
    "train_directory=\"../train2/\"\n",
    "test_directory=\"../test3/\"\n",
    "\n",
    "def images(image_directory):\n",
    "    return [image_directory + image  for image in os.listdir(image_directory)]\n",
    "  \n",
    "    '''이미지 디렉토리에 있는 리스트를 뽑아주고 주소와 이미지 이름을 같이출력'''\n",
    "\n",
    "\n",
    "\n",
    "def extract_labels(file_names):\n",
    "    n=len(file_names)\n",
    "    y=np.zeros(n,dtype=np.int32)\n",
    "    \n",
    "    for i,filename in enumerate(file_names):\n",
    "        if 'cat'in str(filename):\n",
    "            y[i]=0\n",
    "        else:\n",
    "            y[i]=1\n",
    "            \n",
    "    return y\n",
    "\n",
    "    '''이미지 디렉토리로 부터 리스트에 있는 이름을 추출하여 classification을 해줌, 답안지를 만드는 과정'''\n",
    "    ''' 고양이라는 이미지에 0을 할당 개에 1할당'''"
   ]
  },
  {
   "cell_type": "markdown",
   "metadata": {
    "deletable": true,
    "editable": true
   },
   "source": [
    "# encoding image and flattening image"
   ]
  },
  {
   "cell_type": "code",
   "execution_count": 4,
   "metadata": {
    "collapsed": false,
    "deletable": true,
    "editable": true
   },
   "outputs": [],
   "source": [
    "def img_to_matrix(filename, verbose=False):\n",
    "        \n",
    "    \n",
    "    img = cv2.imread(filename)\n",
    "    '''이미지  파일명으로 파일을 불러와서 그걸 rgb픽셀 넘파이로 바꿔주는 작업'''\n",
    "    if verbose == True:\n",
    "        print (\"Changing size from\")\n",
    "        \n",
    "    '''verbose는 여기서 프로그램이 잘돌고 있는지 알려준다. 에러나 예를 보여줌'''\n",
    "    '''디버그 관련한 것을 보여주는 false인 경우 안보여 줘도 된다.'''\n",
    "    imag = cv2.resize(img,(48,48))\n",
    "    '''이미지 사이즈를 48, 48로 줄여준다.'''\n",
    "    \"\"\"resized_image = cv2.resize(image, (100, 50)) \"\"\"\n",
    "    \n",
    "    '''img = list(img.getdata())\n",
    "    픽셀값을 가지는 시퀀스 객체로 만들어준다. \n",
    "    img = map(list, img)\n",
    "    리스트로 안에 있는 데이터 값을 맵핑해준다. 캐스팅해준다고 생각하자\n",
    "    img = np.array(img)'''\n",
    "    return imag\n",
    "\n",
    "    '''이미지를 리사이즈 하고 그에 따른 값들을 리스트로 캐스팅해줌'''\n",
    "def flatten_image(img):\n",
    "\n",
    "    '''s = img.shape[0] * img.shape[1]\n",
    "    img_wide = img.reshape(1, s)\n",
    "    return img_wide[0]'''\n",
    "    '''이미지를 1차원으로 펴주는 작업'''\n",
    "    flattened = img.flatten()\n",
    "    return flattened"
   ]
  },
  {
   "cell_type": "markdown",
   "metadata": {
    "deletable": true,
    "editable": true
   },
   "source": [
    "# preparing x_train, y_train image"
   ]
  },
  {
   "cell_type": "code",
   "execution_count": 14,
   "metadata": {
    "collapsed": false,
    "deletable": true,
    "editable": true
   },
   "outputs": [
    {
     "data": {
      "text/plain": [
       "'x_train \\xec\\xa4\\x80\\xeb\\xb9\\x84'"
      ]
     },
     "execution_count": 14,
     "metadata": {},
     "output_type": "execute_result"
    }
   ],
   "source": [
    "train_image_names=images(train_directory)\n",
    "'''트레인 이미지에서 이름을 리스트로 뽑는작업'''\n",
    "y_train=extract_labels(train_image_names)\n",
    "'''트레인 이미지로 부터 y label을 할당하는 작업'''\n",
    "np.save('y_train',y_train)\n",
    "\n",
    "'''여기까지 y_train 준비!!'''\n",
    "\n",
    "\n",
    "x_train=[]\n",
    "\n",
    "for i in images(train_directory): \n",
    "    img=img_to_matrix(i)\n",
    "    img=flatten_image(img)\n",
    "    x_train.append(img)\n",
    "'''x_train 준비'''    \n",
    "    \n",
    "\n"
   ]
  },
  {
   "cell_type": "code",
   "execution_count": 16,
   "metadata": {
    "collapsed": false,
    "deletable": true,
    "editable": true,
    "scrolled": false
   },
   "outputs": [
    {
     "data": {
      "text/plain": [
       "array([[ 92, 169, 208, ...,   0,   2,   2],\n",
       "       [ 42,  43,  39, ...,  22,  28,  41],\n",
       "       [ 53,  45,  38, ...,  10, 185, 188],\n",
       "       ..., \n",
       "       [107, 106, 114, ..., 161, 161, 173],\n",
       "       [ 74, 104, 150, ...,  31,  70, 116],\n",
       "       [178, 178, 178, ...,  19, 103, 161]], dtype=uint8)"
      ]
     },
     "execution_count": 16,
     "metadata": {},
     "output_type": "execute_result"
    }
   ],
   "source": [
    "x_train=np.array(x_train)\n",
    "x_train "
   ]
  },
  {
   "cell_type": "markdown",
   "metadata": {
    "deletable": true,
    "editable": true
   },
   "source": [
    "# preparing x_test, y_test image"
   ]
  },
  {
   "cell_type": "code",
   "execution_count": 17,
   "metadata": {
    "collapsed": false,
    "deletable": true,
    "editable": true
   },
   "outputs": [
    {
     "data": {
      "text/plain": [
       "(800, 6912)"
      ]
     },
     "execution_count": 17,
     "metadata": {},
     "output_type": "execute_result"
    }
   ],
   "source": [
    "test_image_names=images(test_directory) \n",
    "\n",
    "y_test=extract_labels(test_image_names)\n",
    "np.save('y_test',y_test)\n",
    "\n",
    "\n",
    "\n",
    "test_images=images(test_directory)\n",
    "\n",
    "x_test = [ ]\n",
    "for i in test_images:\n",
    "    img = img_to_matrix(i)\n",
    "    img = flatten_image(img)\n",
    "    x_test.append(img)\n",
    "\n",
    "x_test = np.array(x_test)\n",
    "x_test.shape\n"
   ]
  },
  {
   "cell_type": "code",
   "execution_count": 18,
   "metadata": {
    "collapsed": false,
    "deletable": true,
    "editable": true
   },
   "outputs": [],
   "source": [
    "x_train=x_train.astype(dtype='float')\n",
    "x_test=x_test.astype(dtype='float')"
   ]
  },
  {
   "cell_type": "markdown",
   "metadata": {
    "deletable": true,
    "editable": true
   },
   "source": [
    "# scale"
   ]
  },
  {
   "cell_type": "code",
   "execution_count": 9,
   "metadata": {
    "collapsed": false,
    "deletable": true,
    "editable": true
   },
   "outputs": [
    {
     "name": "stderr",
     "output_type": "stream",
     "text": [
      "c:\\python27\\lib\\site-packages\\sklearn\\cross_validation.py:44: DeprecationWarning: This module was deprecated in version 0.18 in favor of the model_selection module into which all the refactored classes and functions are moved. Also note that the interface of the new CV iterators are different from that of this module. This module will be removed in 0.20.\n",
      "  \"This module will be removed in 0.20.\", DeprecationWarning)\n",
      "c:\\python27\\lib\\site-packages\\sklearn\\grid_search.py:43: DeprecationWarning: This module was deprecated in version 0.18 in favor of the model_selection module into which all the refactored classes and functions are moved. This module will be removed in 0.20.\n",
      "  DeprecationWarning)\n"
     ]
    }
   ],
   "source": [
    "from sklearn import preprocessing,grid_search,cross_validation,metrics,decomposition\n",
    "\n",
    "scaler=preprocessing.MinMaxScaler(feature_range=(-1,1)).fit(x_train)\n",
    "x_train=scaler.transform(x_train)\n",
    "x_test=scaler.transform(x_test)"
   ]
  },
  {
   "cell_type": "code",
   "execution_count": 13,
   "metadata": {
    "collapsed": false,
    "deletable": true,
    "editable": true,
    "scrolled": false
   },
   "outputs": [
    {
     "data": {
      "text/plain": [
       "array([[-0.27843137,  0.3254902 ,  0.63137255, ..., -1.        ,\n",
       "        -0.98431373, -0.98431373],\n",
       "       [-0.67058824, -0.6627451 , -0.69411765, ..., -0.82745098,\n",
       "        -0.78039216, -0.67843137],\n",
       "       [-0.58431373, -0.64705882, -0.70196078, ..., -0.92156863,\n",
       "         0.45098039,  0.4745098 ],\n",
       "       ..., \n",
       "       [-0.16078431, -0.16862745, -0.10588235, ...,  0.2627451 ,\n",
       "         0.2627451 ,  0.35686275],\n",
       "       [-0.41960784, -0.18431373,  0.17647059, ..., -0.75686275,\n",
       "        -0.45098039, -0.09019608],\n",
       "       [ 0.39607843,  0.39607843,  0.39607843, ..., -0.85098039,\n",
       "        -0.19215686,  0.2627451 ]])"
      ]
     },
     "execution_count": 13,
     "metadata": {},
     "output_type": "execute_result"
    }
   ],
   "source": [
    "x_train"
   ]
  },
  {
   "cell_type": "markdown",
   "metadata": {
    "deletable": true,
    "editable": true
   },
   "source": [
    "# scale2"
   ]
  },
  {
   "cell_type": "code",
   "execution_count": 19,
   "metadata": {
    "collapsed": false,
    "deletable": true,
    "editable": true
   },
   "outputs": [],
   "source": [
    "x_train /= 255\n",
    "x_test /= 255"
   ]
  },
  {
   "cell_type": "code",
   "execution_count": 20,
   "metadata": {
    "collapsed": false,
    "deletable": true,
    "editable": true
   },
   "outputs": [
    {
     "data": {
      "text/plain": [
       "array([[ 0.36078431,  0.6627451 ,  0.81568627, ...,  0.        ,\n",
       "         0.00784314,  0.00784314],\n",
       "       [ 0.16470588,  0.16862745,  0.15294118, ...,  0.08627451,\n",
       "         0.10980392,  0.16078431],\n",
       "       [ 0.20784314,  0.17647059,  0.14901961, ...,  0.03921569,\n",
       "         0.7254902 ,  0.7372549 ],\n",
       "       ..., \n",
       "       [ 0.41960784,  0.41568627,  0.44705882, ...,  0.63137255,\n",
       "         0.63137255,  0.67843137],\n",
       "       [ 0.29019608,  0.40784314,  0.58823529, ...,  0.12156863,\n",
       "         0.2745098 ,  0.45490196],\n",
       "       [ 0.69803922,  0.69803922,  0.69803922, ...,  0.0745098 ,\n",
       "         0.40392157,  0.63137255]])"
      ]
     },
     "execution_count": 20,
     "metadata": {},
     "output_type": "execute_result"
    }
   ],
   "source": [
    "x_train"
   ]
  },
  {
   "cell_type": "markdown",
   "metadata": {
    "deletable": true,
    "editable": true
   },
   "source": [
    "# Modeling and fitting"
   ]
  },
  {
   "cell_type": "code",
   "execution_count": 21,
   "metadata": {
    "collapsed": false,
    "deletable": true,
    "editable": true
   },
   "outputs": [
    {
     "data": {
      "text/plain": [
       "KNeighborsClassifier(algorithm='auto', leaf_size=30, metric='minkowski',\n",
       "           metric_params=None, n_jobs=1, n_neighbors=5, p=2,\n",
       "           weights='uniform')"
      ]
     },
     "execution_count": 21,
     "metadata": {},
     "output_type": "execute_result"
    }
   ],
   "source": [
    "from sklearn.neighbors import KNeighborsClassifier\n",
    "knn = KNeighborsClassifier()\n",
    "knn.fit(x_train,y_train)"
   ]
  },
  {
   "cell_type": "markdown",
   "metadata": {
    "deletable": true,
    "editable": true
   },
   "source": [
    "#  train predict"
   ]
  },
  {
   "cell_type": "code",
   "execution_count": 22,
   "metadata": {
    "collapsed": false,
    "deletable": true,
    "editable": true,
    "scrolled": false
   },
   "outputs": [
    {
     "data": {
      "text/plain": [
       "array([0, 0, 0, ..., 1, 0, 0])"
      ]
     },
     "execution_count": 22,
     "metadata": {},
     "output_type": "execute_result"
    }
   ],
   "source": [
    "y_predict_knn = knn.predict(x_train)\n",
    "y_predict_knn"
   ]
  },
  {
   "cell_type": "code",
   "execution_count": 26,
   "metadata": {
    "collapsed": true,
    "deletable": true,
    "editable": true
   },
   "outputs": [],
   "source": [
    "y_predict_knn_test = knn.predict(x_test)\n"
   ]
  },
  {
   "cell_type": "code",
   "execution_count": 80,
   "metadata": {
    "collapsed": false,
    "deletable": true,
    "editable": true
   },
   "outputs": [],
   "source": [
    "predict_pro=knn.predict_proba(train_x)"
   ]
  },
  {
   "cell_type": "markdown",
   "metadata": {
    "deletable": true,
    "editable": true
   },
   "source": [
    "# report"
   ]
  },
  {
   "cell_type": "code",
   "execution_count": 24,
   "metadata": {
    "collapsed": false,
    "deletable": true,
    "editable": true
   },
   "outputs": [
    {
     "name": "stdout",
     "output_type": "stream",
     "text": [
      "             precision    recall  f1-score   support\n",
      "\n",
      "          0       0.66      0.84      0.74      1000\n",
      "          1       0.77      0.56      0.65      1000\n",
      "\n",
      "avg / total       0.72      0.70      0.69      2000\n",
      "\n"
     ]
    }
   ],
   "source": [
    "from sklearn.metrics import classification_report\n",
    "print (classification_report(y_train,y_predict_knn))"
   ]
  },
  {
   "cell_type": "code",
   "execution_count": 27,
   "metadata": {
    "collapsed": false,
    "deletable": true,
    "editable": true,
    "scrolled": true
   },
   "outputs": [
    {
     "name": "stdout",
     "output_type": "stream",
     "text": [
      "             precision    recall  f1-score   support\n",
      "\n",
      "          0       0.52      0.69      0.59       400\n",
      "          1       0.54      0.36      0.43       400\n",
      "\n",
      "avg / total       0.53      0.52      0.51       800\n",
      "\n"
     ]
    }
   ],
   "source": [
    "from sklearn.metrics import classification_report\n",
    "print (classification_report(y_test,y_predict_knn_test))"
   ]
  },
  {
   "cell_type": "code",
   "execution_count": 29,
   "metadata": {
    "collapsed": false,
    "deletable": true,
    "editable": true
   },
   "outputs": [
    {
     "ename": "NameError",
     "evalue": "name 'train_x' is not defined",
     "output_type": "error",
     "traceback": [
      "\u001b[1;31m---------------------------------------------------------------------------\u001b[0m",
      "\u001b[1;31mNameError\u001b[0m                                 Traceback (most recent call last)",
      "\u001b[1;32m<ipython-input-29-79c40ecc5d37>\u001b[0m in \u001b[0;36m<module>\u001b[1;34m()\u001b[0m\n\u001b[1;32m----> 1\u001b[1;33m \u001b[1;32mprint\u001b[0m \u001b[1;33m(\u001b[0m\u001b[0mknn\u001b[0m\u001b[1;33m.\u001b[0m\u001b[0mscore\u001b[0m\u001b[1;33m(\u001b[0m\u001b[0mtrain_x\u001b[0m\u001b[1;33m,\u001b[0m\u001b[0my_train\u001b[0m\u001b[1;33m)\u001b[0m\u001b[1;33m)\u001b[0m\u001b[1;33m\u001b[0m\u001b[0m\n\u001b[0m",
      "\u001b[1;31mNameError\u001b[0m: name 'train_x' is not defined"
     ]
    }
   ],
   "source": [
    "print (knn.score(train_x,y_train))"
   ]
  },
  {
   "cell_type": "code",
   "execution_count": 14,
   "metadata": {
    "collapsed": false,
    "deletable": true,
    "editable": true
   },
   "outputs": [
    {
     "name": "stdout",
     "output_type": "stream",
     "text": [
      "0.527431421446\n"
     ]
    }
   ],
   "source": [
    "print (knn.score(x_test,y_test))"
   ]
  },
  {
   "cell_type": "markdown",
   "metadata": {
    "deletable": true,
    "editable": true
   },
   "source": [
    "# if  more  k?"
   ]
  },
  {
   "cell_type": "markdown",
   "metadata": {
    "deletable": true,
    "editable": true
   },
   "source": [
    "# more K TRAIN-SCORE"
   ]
  },
  {
   "cell_type": "code",
   "execution_count": 33,
   "metadata": {
    "collapsed": false,
    "deletable": true,
    "editable": true,
    "scrolled": true
   },
   "outputs": [
    {
     "name": "stdout",
     "output_type": "stream",
     "text": [
      "             precision    recall  f1-score   support\n",
      "\n",
      "          0       1.00      1.00      1.00      1000\n",
      "          1       1.00      1.00      1.00      1000\n",
      "\n",
      "avg / total       1.00      1.00      1.00      2000\n",
      "\n",
      "if k =1 ACCURACY is 1000.5\n",
      "             precision    recall  f1-score   support\n",
      "\n",
      "          0       0.62      1.00      0.76      1000\n",
      "          1       1.00      0.38      0.55      1000\n",
      "\n",
      "avg / total       0.81      0.69      0.66      2000\n",
      "\n",
      "if k =2 ACCURACY is 383.5\n",
      "             precision    recall  f1-score   support\n",
      "\n",
      "          0       0.69      0.85      0.76      1000\n",
      "          1       0.81      0.62      0.70      1000\n",
      "\n",
      "avg / total       0.75      0.74      0.73      2000\n",
      "\n",
      "if k =3 ACCURACY is 618.427\n",
      "             precision    recall  f1-score   support\n",
      "\n",
      "          0       0.61      0.93      0.74      1000\n",
      "          1       0.86      0.39      0.54      1000\n",
      "\n",
      "avg / total       0.73      0.66      0.64      2000\n",
      "\n",
      "if k =4 ACCURACY is 393.467\n",
      "             precision    recall  f1-score   support\n",
      "\n",
      "          0       0.66      0.84      0.74      1000\n",
      "          1       0.77      0.56      0.65      1000\n",
      "\n",
      "avg / total       0.72      0.70      0.69      2000\n",
      "\n",
      "if k =5 ACCURACY is 563.418\n",
      "             precision    recall  f1-score   support\n",
      "\n",
      "          0       0.60      0.91      0.72      1000\n",
      "          1       0.81      0.39      0.52      1000\n",
      "\n",
      "avg / total       0.70      0.65      0.62      2000\n",
      "\n",
      "if k =6 ACCURACY is 385.4535\n",
      "             precision    recall  f1-score   support\n",
      "\n",
      "          0       0.64      0.83      0.72      1000\n",
      "          1       0.76      0.52      0.62      1000\n",
      "\n",
      "avg / total       0.70      0.68      0.67      2000\n",
      "\n",
      "if k =7 ACCURACY is 522.417\n",
      "             precision    recall  f1-score   support\n",
      "\n",
      "          0       0.59      0.90      0.71      1000\n",
      "          1       0.79      0.38      0.52      1000\n",
      "\n",
      "avg / total       0.69      0.64      0.62      2000\n",
      "\n",
      "if k =8 ACCURACY is 384.4495\n",
      "             precision    recall  f1-score   support\n",
      "\n",
      "          0       0.61      0.83      0.71      1000\n",
      "          1       0.74      0.48      0.58      1000\n",
      "\n",
      "avg / total       0.68      0.65      0.64      2000\n",
      "\n",
      "if k =9 ACCURACY is 477.416\n"
     ]
    },
    {
     "data": {
      "text/plain": [
       "[(1, 1000.5),\n",
       " (2, 383.5),\n",
       " (3, 618.42700000000002),\n",
       " (4, 393.46699999999998),\n",
       " (5, 563.41800000000001),\n",
       " (6, 385.45350000000002),\n",
       " (7, 522.41700000000003),\n",
       " (8, 384.4495),\n",
       " (9, 477.416)]"
      ]
     },
     "execution_count": 33,
     "metadata": {},
     "output_type": "execute_result"
    }
   ],
   "source": [
    "from sklearn import metrics\n",
    "from sklearn.metrics import classification_report\n",
    "k_range=range(1,10)\n",
    "accuracy_scores=[]\n",
    "\n",
    "for k in k_range:\n",
    "    knn=KNeighborsClassifier(n_neighbors=k)\n",
    "    knn.fit(x_train,y_train)\n",
    "    y_pred=knn.predict(x_train)\n",
    "    conf_mat=metrics.confusion_matrix(y_train,y_pred)\n",
    "  \n",
    "    print (classification_report(y_train,y_pred))\n",
    "    TP = conf_mat[1,1]\n",
    "    TN = conf_mat[0,0]\n",
    "    FP = conf_mat[0,1]\n",
    "    FN = conf_mat[1,0]\n",
    "    print (\"if k ={} ACCURACY is {}\".format(k,(TP+TN/float((FP+TN+FN+ TP)))))\n",
    "    accuracy_scores.append((TP+TN/float((FP+TN+FN+ TP))))\n",
    "    \n",
    "list(zip(k_range, accuracy_scores))"
   ]
  },
  {
   "cell_type": "code",
   "execution_count": null,
   "metadata": {
    "collapsed": true,
    "deletable": true,
    "editable": true
   },
   "outputs": [],
   "source": []
  },
  {
   "cell_type": "markdown",
   "metadata": {
    "deletable": true,
    "editable": true
   },
   "source": [
    "# more K TEST-SCORE"
   ]
  },
  {
   "cell_type": "code",
   "execution_count": 60,
   "metadata": {
    "collapsed": false,
    "deletable": true,
    "editable": true
   },
   "outputs": [
    {
     "name": "stdout",
     "output_type": "stream",
     "text": [
      "[[1001    0]\n",
      " [   0 1001]]\n",
      "             precision    recall  f1-score   support\n",
      "\n",
      "          0       1.00      1.00      1.00      1001\n",
      "          1       1.00      1.00      1.00      1001\n",
      "\n",
      "avg / total       1.00      1.00      1.00      2002\n",
      "\n",
      "if k =1 precision is 1.0\n",
      "[[1001    0]\n",
      " [ 636  365]]\n",
      "             precision    recall  f1-score   support\n",
      "\n",
      "          0       0.61      1.00      0.76      1001\n",
      "          1       1.00      0.36      0.53      1001\n",
      "\n",
      "avg / total       0.81      0.68      0.65      2002\n",
      "\n",
      "if k =2 precision is 1.0\n",
      "[[866 135]\n",
      " [397 604]]\n",
      "             precision    recall  f1-score   support\n",
      "\n",
      "          0       0.69      0.87      0.77      1001\n",
      "          1       0.82      0.60      0.69      1001\n",
      "\n",
      "avg / total       0.75      0.73      0.73      2002\n",
      "\n",
      "if k =3 precision is 0.817320703654\n",
      "[[938  63]\n",
      " [617 384]]\n",
      "             precision    recall  f1-score   support\n",
      "\n",
      "          0       0.60      0.94      0.73      1001\n",
      "          1       0.86      0.38      0.53      1001\n",
      "\n",
      "avg / total       0.73      0.66      0.63      2002\n",
      "\n",
      "if k =4 precision is 0.859060402685\n",
      "[[841 160]\n",
      " [452 549]]\n",
      "             precision    recall  f1-score   support\n",
      "\n",
      "          0       0.65      0.84      0.73      1001\n",
      "          1       0.77      0.55      0.64      1001\n",
      "\n",
      "avg / total       0.71      0.69      0.69      2002\n",
      "\n",
      "if k =5 precision is 0.774330042313\n",
      "[[918  83]\n",
      " [620 381]]\n",
      "             precision    recall  f1-score   support\n",
      "\n",
      "          0       0.60      0.92      0.72      1001\n",
      "          1       0.82      0.38      0.52      1001\n",
      "\n",
      "avg / total       0.71      0.65      0.62      2002\n",
      "\n",
      "if k =6 precision is 0.821120689655\n",
      "[[838 163]\n",
      " [509 492]]\n",
      "             precision    recall  f1-score   support\n",
      "\n",
      "          0       0.62      0.84      0.71      1001\n",
      "          1       0.75      0.49      0.59      1001\n",
      "\n",
      "avg / total       0.69      0.66      0.65      2002\n",
      "\n",
      "if k =7 precision is 0.751145038168\n",
      "[[905  96]\n",
      " [633 368]]\n",
      "             precision    recall  f1-score   support\n",
      "\n",
      "          0       0.59      0.90      0.71      1001\n",
      "          1       0.79      0.37      0.50      1001\n",
      "\n",
      "avg / total       0.69      0.64      0.61      2002\n",
      "\n",
      "if k =8 precision is 0.793103448276\n",
      "[[840 161]\n",
      " [530 471]]\n",
      "             precision    recall  f1-score   support\n",
      "\n",
      "          0       0.61      0.84      0.71      1001\n",
      "          1       0.75      0.47      0.58      1001\n",
      "\n",
      "avg / total       0.68      0.65      0.64      2002\n",
      "\n",
      "if k =9 precision is 0.745253164557\n"
     ]
    },
    {
     "data": {
      "text/plain": [
       "[(1, 1.0),\n",
       " (2, 1.0),\n",
       " (3, 0.81732070365358589),\n",
       " (4, 0.85906040268456374),\n",
       " (5, 0.77433004231311708),\n",
       " (6, 0.82112068965517238),\n",
       " (7, 0.75114503816793898),\n",
       " (8, 0.7931034482758621),\n",
       " (9, 0.745253164556962)]"
      ]
     },
     "execution_count": 60,
     "metadata": {},
     "output_type": "execute_result"
    }
   ],
   "source": [
    "from sklearn import metrics\n",
    "from sklearn.metrics import classification_report\n",
    "k_range=range(1,10)\n",
    "accuracy_scores=[]\n",
    "\n",
    "for k in k_range:\n",
    "    knn=KNeighborsClassifier(n_neighbors=k)\n",
    "    \n",
    "    y_pred=knn.predict(x_test)\n",
    "    conf_mat=metrics.confusion_matrix(y_test,y_pred)\n",
    "  \n",
    "    print (classification_report(y_test,y_pred))\n",
    "    TP = conf_mat[1,1]\n",
    "    TN = conf_mat[0,0]\n",
    "    FP = conf_mat[0,1]\n",
    "    FN = conf_mat[1,0]\n",
    "    print (\"if k ={} ACCURACY is {}\".format(k,(TP+TN/float((FP+TN+FN+ TP)))))\n",
    "    accuracy_scores.append(/(TP+TN/float((FP+TN+FN+ TP))))\n",
    "    \n",
    "list(zip(k_range, accuracy_scores))"
   ]
  },
  {
   "cell_type": "markdown",
   "metadata": {
    "deletable": true,
    "editable": true
   },
   "source": [
    "# finding overfitting spot and checking Accuracy "
   ]
  },
  {
   "cell_type": "code",
   "execution_count": 15,
   "metadata": {
    "collapsed": false,
    "deletable": true,
    "editable": true
   },
   "outputs": [
    {
     "name": "stdout",
     "output_type": "stream",
     "text": [
      "Neighbors: 1, Accuracy: 0.527431\n",
      "Neighbors: 3, Accuracy: 0.514963\n",
      "Neighbors: 5, Accuracy: 0.527431\n",
      "Neighbors: 7, Accuracy: 0.559850\n",
      "Neighbors: 9, Accuracy: 0.549875\n",
      "Neighbors: 11, Accuracy: 0.543641\n",
      "Neighbors: 13, Accuracy: 0.546135\n",
      "Neighbors: 15, Accuracy: 0.536160\n",
      "Neighbors: 17, Accuracy: 0.529925\n",
      "Neighbors: 19, Accuracy: 0.546135\n",
      "Neighbors: 21, Accuracy: 0.536160\n",
      "Neighbors: 23, Accuracy: 0.556110\n",
      "Neighbors: 25, Accuracy: 0.551122\n",
      "Neighbors: 27, Accuracy: 0.549875\n",
      "Neighbors: 29, Accuracy: 0.538653\n",
      "Neighbors: 31, Accuracy: 0.556110\n",
      "Neighbors: 33, Accuracy: 0.541147\n",
      "Neighbors: 35, Accuracy: 0.543641\n",
      "Neighbors: 37, Accuracy: 0.548628\n",
      "Neighbors: 39, Accuracy: 0.552369\n",
      "Neighbors: 41, Accuracy: 0.539900\n",
      "Neighbors: 43, Accuracy: 0.538653\n",
      "Neighbors: 45, Accuracy: 0.546135\n",
      "Neighbors: 47, Accuracy: 0.543641\n",
      "Neighbors: 49, Accuracy: 0.547382\n"
     ]
    },
    {
     "ename": "NameError",
     "evalue": "name 'pl' is not defined",
     "output_type": "error",
     "traceback": [
      "\u001b[1;31m---------------------------------------------------------------------------\u001b[0m",
      "\u001b[1;31mNameError\u001b[0m                                 Traceback (most recent call last)",
      "\u001b[1;32m<ipython-input-15-bbc1df29d2bc>\u001b[0m in \u001b[0;36m<module>\u001b[1;34m()\u001b[0m\n\u001b[0;32m     12\u001b[0m \u001b[0mresults\u001b[0m \u001b[1;33m=\u001b[0m \u001b[0mpd\u001b[0m\u001b[1;33m.\u001b[0m\u001b[0mDataFrame\u001b[0m\u001b[1;33m(\u001b[0m\u001b[0mresults\u001b[0m\u001b[1;33m,\u001b[0m \u001b[0mcolumns\u001b[0m\u001b[1;33m=\u001b[0m\u001b[1;33m[\u001b[0m\u001b[1;34m\"n\"\u001b[0m\u001b[1;33m,\u001b[0m \u001b[1;34m\"accuracy\"\u001b[0m\u001b[1;33m]\u001b[0m\u001b[1;33m)\u001b[0m\u001b[1;33m\u001b[0m\u001b[0m\n\u001b[0;32m     13\u001b[0m \u001b[1;33m\u001b[0m\u001b[0m\n\u001b[1;32m---> 14\u001b[1;33m \u001b[0mpl\u001b[0m\u001b[1;33m.\u001b[0m\u001b[0mplot\u001b[0m\u001b[1;33m(\u001b[0m\u001b[0mresults\u001b[0m\u001b[1;33m.\u001b[0m\u001b[0mn\u001b[0m\u001b[1;33m,\u001b[0m \u001b[0mresults\u001b[0m\u001b[1;33m.\u001b[0m\u001b[0maccuracy\u001b[0m\u001b[1;33m)\u001b[0m\u001b[1;33m\u001b[0m\u001b[0m\n\u001b[0m\u001b[0;32m     15\u001b[0m \u001b[0mpl\u001b[0m\u001b[1;33m.\u001b[0m\u001b[0mtitle\u001b[0m\u001b[1;33m(\u001b[0m\u001b[1;34m\"Accuracy with Increasing K\"\u001b[0m\u001b[1;33m)\u001b[0m\u001b[1;33m\u001b[0m\u001b[0m\n\u001b[0;32m     16\u001b[0m \u001b[0mpl\u001b[0m\u001b[1;33m.\u001b[0m\u001b[0mshow\u001b[0m\u001b[1;33m(\u001b[0m\u001b[1;33m)\u001b[0m\u001b[1;33m\u001b[0m\u001b[0m\n",
      "\u001b[1;31mNameError\u001b[0m: name 'pl' is not defined"
     ]
    }
   ],
   "source": [
    "\n",
    "results = []\n",
    "for n in range(1, 51, 2):\n",
    "    knn = KNeighborsClassifier(n_neighbors=n)\n",
    "    knn.fit(x_train, y_train)\n",
    "    preds = knn.predict(x_test)\n",
    "    accuracy = np.where(preds==y_test, 1, 0).sum() / float(len(y_test))\n",
    "    print \"Neighbors: %d, Accuracy: %3f\" % (n, accuracy)\n",
    "\n",
    "    results.append([n, accuracy])\n",
    "\n",
    "results = pd.DataFrame(results, columns=[\"n\", \"accuracy\"])\n",
    "\n"
   ]
  },
  {
   "cell_type": "markdown",
   "metadata": {
    "deletable": true,
    "editable": true
   },
   "source": [
    "# Graph"
   ]
  },
  {
   "cell_type": "code",
   "execution_count": 21,
   "metadata": {
    "collapsed": false,
    "deletable": true,
    "editable": true
   },
   "outputs": [
    {
     "data": {
      "image/png": "[encoded data removed]",
      "text/plain": [
       "<matplotlib.figure.Figure at 0x1598f050>"
      ]
     },
     "metadata": {},
     "output_type": "display_data"
    }
   ],
   "source": [
    "plt.plot(results.n, results.accuracy)\n",
    "plt.title(\"Accuracy with Increasing K\")\n",
    "plt.ylim(0,1)\n",
    "plt.show()"
   ]
  },
  {
   "cell_type": "markdown",
   "metadata": {
    "deletable": true,
    "editable": true
   },
   "source": [
    "# explained variance"
   ]
  },
  {
   "cell_type": "code",
   "execution_count": 14,
   "metadata": {
    "collapsed": false,
    "deletable": true,
    "editable": true
   },
   "outputs": [],
   "source": [
    "normalized_eigenvalues = pca.explained_variance_ratio_"
   ]
  },
  {
   "cell_type": "code",
   "execution_count": 15,
   "metadata": {
    "collapsed": false,
    "deletable": true,
    "editable": true
   },
   "outputs": [
    {
     "data": {
      "text/plain": [
       "array([  1.83736316e-01,   9.99224890e-02,   7.21135180e-02, ...,\n",
       "         1.77553728e-06,   1.69312639e-06,   5.32299389e-32])"
      ]
     },
     "execution_count": 15,
     "metadata": {},
     "output_type": "execute_result"
    }
   ],
   "source": [
    "normalized_eigenvalues"
   ]
  },
  {
   "cell_type": "code",
   "execution_count": 29,
   "metadata": {
    "collapsed": false,
    "deletable": true,
    "editable": true
   },
   "outputs": [
    {
     "data": {
      "image/png": "[encoded data removed]",
      "text/plain": [
       "<matplotlib.figure.Figure at 0x7f190b440ad0>"
      ]
     },
     "metadata": {},
     "output_type": "display_data"
    }
   ],
   "source": [
    "plt.figure(figsize=(4,3))\n",
    "plt.plot(normalized_eigenvalues)\n",
    "\n",
    "plt.scatter(x = range(len(normalized_eigenvalues)),\n",
    "    y = normalized_eigenvalues,\n",
    "    marker = 'o',\n",
    "    s = 50)\n",
    "\n",
    "plt.ylabel('explained variance')\n",
    "plt.xlabel('principal component')\n",
    "\n",
    "plt.show()\n"
   ]
  },
  {
   "cell_type": "code",
   "execution_count": 17,
   "metadata": {
    "collapsed": true,
    "deletable": true,
    "editable": true
   },
   "outputs": [],
   "source": [
    "cumsum_eigenvalues=np.cumsum(normalized_eigenvalues)"
   ]
  },
  {
   "cell_type": "code",
   "execution_count": 18,
   "metadata": {
    "collapsed": false,
    "deletable": true,
    "editable": true
   },
   "outputs": [
    {
     "data": {
      "image/png": "[encoded data removed]",
      "text/plain": [
       "<matplotlib.figure.Figure at 0x7f1915c7fcd0>"
      ]
     },
     "metadata": {},
     "output_type": "display_data"
    }
   ],
   "source": [
    "plt.figure(figsize=(4,3))\n",
    "\n",
    "plt.ylabel(\"cumsum_eigenvalues\")\n",
    "plt.xlabel(\"printcipal component\")\n",
    "plt.plot(cumsum_eigenvalues)\n",
    "plt.savefig ('cumsum_eigenvalues', dpi=300, transparent=True)\n",
    "\n",
    "plt.show()"
   ]
  },
  {
   "cell_type": "markdown",
   "metadata": {
    "deletable": true,
    "editable": true
   },
   "source": [
    "# n_components=4"
   ]
  },
  {
   "cell_type": "code",
   "execution_count": 19,
   "metadata": {
    "collapsed": true,
    "deletable": true,
    "editable": true
   },
   "outputs": [],
   "source": [
    "pca=decomposition.PCA(n_components=4).fit(train_x)"
   ]
  },
  {
   "cell_type": "code",
   "execution_count": 20,
   "metadata": {
    "collapsed": true,
    "deletable": true,
    "editable": true
   },
   "outputs": [],
   "source": [
    "train_x=pca.transform(train_x)"
   ]
  },
  {
   "cell_type": "code",
   "execution_count": 21,
   "metadata": {
    "collapsed": false,
    "deletable": true,
    "editable": true
   },
   "outputs": [
    {
     "data": {
      "text/plain": [
       "(2000, 4)"
      ]
     },
     "execution_count": 21,
     "metadata": {},
     "output_type": "execute_result"
    }
   ],
   "source": [
    "train_x.shape"
   ]
  },
  {
   "cell_type": "code",
   "execution_count": 22,
   "metadata": {
    "collapsed": false,
    "deletable": true,
    "editable": true
   },
   "outputs": [
    {
     "data": {
      "text/plain": [
       "2000"
      ]
     },
     "execution_count": 22,
     "metadata": {},
     "output_type": "execute_result"
    }
   ],
   "source": [
    "train_x.shape[0]"
   ]
  },
  {
   "cell_type": "code",
   "execution_count": 25,
   "metadata": {
    "collapsed": false,
    "deletable": true,
    "editable": true
   },
   "outputs": [
    {
     "data": {
      "text/plain": [
       "1800"
      ]
     },
     "execution_count": 25,
     "metadata": {},
     "output_type": "execute_result"
    }
   ],
   "source": [
    "int(train_x.shape[0]*(kcv-1)/kcv)"
   ]
  },
  {
   "cell_type": "markdown",
   "metadata": {
    "deletable": true,
    "editable": true
   },
   "source": [
    "# hyperparameter determinations"
   ]
  },
  {
   "cell_type": "code",
   "execution_count": 24,
   "metadata": {
    "collapsed": false,
    "deletable": true,
    "editable": true
   },
   "outputs": [],
   "source": [
    "kcv= 10\n",
    "k_nn=range(1,int(train_x.shape[0]*(kcv-1)/kcv))\n"
   ]
  },
  {
   "cell_type": "code",
   "execution_count": 26,
   "metadata": {
    "collapsed": true,
    "deletable": true,
    "editable": true
   },
   "outputs": [],
   "source": [
    "from sklearn import preprocessing, neighbors, grid_search, cross_validation, decomposition, metrics"
   ]
  },
  {
   "cell_type": "code",
   "execution_count": 27,
   "metadata": {
    "collapsed": false,
    "deletable": true,
    "editable": true
   },
   "outputs": [],
   "source": [
    "gs = grid_search.GridSearchCV(\n",
    "    estimator = neighbors.KNeighborsClassifier(weights='distance'),\n",
    "    param_grid = {'n_neighbors': k_nn, 'weights': ['uniform', 'distance']},\n",
    "    cv = cross_validation.StratifiedKFold(y_train, n_folds = kcv,random_state=0)\n",
    "\n",
    ")"
   ]
  },
  {
   "cell_type": "code",
   "execution_count": null,
   "metadata": {
    "collapsed": true,
    "deletable": true,
    "editable": true
   },
   "outputs": [],
   "source": []
  },
  {
   "cell_type": "code",
   "execution_count": 28,
   "metadata": {
    "collapsed": false,
    "deletable": true,
    "editable": true
   },
   "outputs": [
    {
     "data": {
      "text/plain": [
       "GridSearchCV(cv=sklearn.cross_validation.StratifiedKFold(labels=[1 1 ..., 0 0], n_folds=10, shuffle=False, random_state=0),\n",
       "       error_score='raise',\n",
       "       estimator=KNeighborsClassifier(algorithm='auto', leaf_size=30, metric='minkowski',\n",
       "           metric_params=None, n_jobs=1, n_neighbors=5, p=2,\n",
       "           weights='distance'),\n",
       "       fit_params={}, iid=True, n_jobs=1,\n",
       "       param_grid={'n_neighbors': [1, 2, 3, 4, 5, 6, 7, 8, 9, 10, 11, 12, 13, 14, 15, 16, 17, 18, 19, 20, 21, 22, 23, 24, 25, 26, 27, 28, 29, 30, 31, 32, 33, 34, 35, 36, 37, 38, 39, 40, 41, 42, 43, 44, 45, 46, 47, 48, 49, 50, 51, 52, 53, 54, 55, 56, 57, 58, 59, 60, 61, 62, 63, 64, 65, 66, 67, 68, 69, 70, 7...89, 1790, 1791, 1792, 1793, 1794, 1795, 1796, 1797, 1798, 1799], 'weights': ['uniform', 'distance']},\n",
       "       pre_dispatch='2*n_jobs', refit=True, scoring=None, verbose=0)"
      ]
     },
     "execution_count": 28,
     "metadata": {},
     "output_type": "execute_result"
    }
   ],
   "source": [
    "gs.fit(train_x,y_train)\n",
    "\n"
   ]
  },
  {
   "cell_type": "code",
   "execution_count": 30,
   "metadata": {
    "collapsed": false,
    "deletable": true,
    "editable": true
   },
   "outputs": [
    {
     "data": {
      "text/html": [
       "<div>\n",
       "<table border=\"1\" class=\"dataframe\">\n",
       "  <thead>\n",
       "    <tr style=\"text-align: right;\">\n",
       "      <th></th>\n",
       "      <th>k</th>\n",
       "      <th>score</th>\n",
       "      <th>weights</th>\n",
       "    </tr>\n",
       "  </thead>\n",
       "  <tbody>\n",
       "    <tr>\n",
       "      <th>0</th>\n",
       "      <td>1</td>\n",
       "      <td>0.5115</td>\n",
       "      <td>uniform</td>\n",
       "    </tr>\n",
       "    <tr>\n",
       "      <th>1</th>\n",
       "      <td>1</td>\n",
       "      <td>0.5115</td>\n",
       "      <td>distance</td>\n",
       "    </tr>\n",
       "    <tr>\n",
       "      <th>2</th>\n",
       "      <td>2</td>\n",
       "      <td>0.5275</td>\n",
       "      <td>uniform</td>\n",
       "    </tr>\n",
       "    <tr>\n",
       "      <th>3</th>\n",
       "      <td>2</td>\n",
       "      <td>0.5115</td>\n",
       "      <td>distance</td>\n",
       "    </tr>\n",
       "    <tr>\n",
       "      <th>4</th>\n",
       "      <td>3</td>\n",
       "      <td>0.5325</td>\n",
       "      <td>uniform</td>\n",
       "    </tr>\n",
       "    <tr>\n",
       "      <th>5</th>\n",
       "      <td>3</td>\n",
       "      <td>0.5300</td>\n",
       "      <td>distance</td>\n",
       "    </tr>\n",
       "    <tr>\n",
       "      <th>6</th>\n",
       "      <td>4</td>\n",
       "      <td>0.5285</td>\n",
       "      <td>uniform</td>\n",
       "    </tr>\n",
       "    <tr>\n",
       "      <th>7</th>\n",
       "      <td>4</td>\n",
       "      <td>0.5215</td>\n",
       "      <td>distance</td>\n",
       "    </tr>\n",
       "    <tr>\n",
       "      <th>8</th>\n",
       "      <td>5</td>\n",
       "      <td>0.5280</td>\n",
       "      <td>uniform</td>\n",
       "    </tr>\n",
       "    <tr>\n",
       "      <th>9</th>\n",
       "      <td>5</td>\n",
       "      <td>0.5190</td>\n",
       "      <td>distance</td>\n",
       "    </tr>\n",
       "    <tr>\n",
       "      <th>10</th>\n",
       "      <td>6</td>\n",
       "      <td>0.5290</td>\n",
       "      <td>uniform</td>\n",
       "    </tr>\n",
       "    <tr>\n",
       "      <th>11</th>\n",
       "      <td>6</td>\n",
       "      <td>0.5300</td>\n",
       "      <td>distance</td>\n",
       "    </tr>\n",
       "    <tr>\n",
       "      <th>12</th>\n",
       "      <td>7</td>\n",
       "      <td>0.5380</td>\n",
       "      <td>uniform</td>\n",
       "    </tr>\n",
       "    <tr>\n",
       "      <th>13</th>\n",
       "      <td>7</td>\n",
       "      <td>0.5295</td>\n",
       "      <td>distance</td>\n",
       "    </tr>\n",
       "    <tr>\n",
       "      <th>14</th>\n",
       "      <td>8</td>\n",
       "      <td>0.5430</td>\n",
       "      <td>uniform</td>\n",
       "    </tr>\n",
       "    <tr>\n",
       "      <th>15</th>\n",
       "      <td>8</td>\n",
       "      <td>0.5355</td>\n",
       "      <td>distance</td>\n",
       "    </tr>\n",
       "    <tr>\n",
       "      <th>16</th>\n",
       "      <td>9</td>\n",
       "      <td>0.5390</td>\n",
       "      <td>uniform</td>\n",
       "    </tr>\n",
       "    <tr>\n",
       "      <th>17</th>\n",
       "      <td>9</td>\n",
       "      <td>0.5265</td>\n",
       "      <td>distance</td>\n",
       "    </tr>\n",
       "    <tr>\n",
       "      <th>18</th>\n",
       "      <td>10</td>\n",
       "      <td>0.5590</td>\n",
       "      <td>uniform</td>\n",
       "    </tr>\n",
       "    <tr>\n",
       "      <th>19</th>\n",
       "      <td>10</td>\n",
       "      <td>0.5460</td>\n",
       "      <td>distance</td>\n",
       "    </tr>\n",
       "    <tr>\n",
       "      <th>20</th>\n",
       "      <td>11</td>\n",
       "      <td>0.5535</td>\n",
       "      <td>uniform</td>\n",
       "    </tr>\n",
       "    <tr>\n",
       "      <th>21</th>\n",
       "      <td>11</td>\n",
       "      <td>0.5455</td>\n",
       "      <td>distance</td>\n",
       "    </tr>\n",
       "    <tr>\n",
       "      <th>22</th>\n",
       "      <td>12</td>\n",
       "      <td>0.5560</td>\n",
       "      <td>uniform</td>\n",
       "    </tr>\n",
       "    <tr>\n",
       "      <th>23</th>\n",
       "      <td>12</td>\n",
       "      <td>0.5485</td>\n",
       "      <td>distance</td>\n",
       "    </tr>\n",
       "    <tr>\n",
       "      <th>24</th>\n",
       "      <td>13</td>\n",
       "      <td>0.5520</td>\n",
       "      <td>uniform</td>\n",
       "    </tr>\n",
       "    <tr>\n",
       "      <th>25</th>\n",
       "      <td>13</td>\n",
       "      <td>0.5500</td>\n",
       "      <td>distance</td>\n",
       "    </tr>\n",
       "    <tr>\n",
       "      <th>26</th>\n",
       "      <td>14</td>\n",
       "      <td>0.5540</td>\n",
       "      <td>uniform</td>\n",
       "    </tr>\n",
       "    <tr>\n",
       "      <th>27</th>\n",
       "      <td>14</td>\n",
       "      <td>0.5405</td>\n",
       "      <td>distance</td>\n",
       "    </tr>\n",
       "    <tr>\n",
       "      <th>28</th>\n",
       "      <td>15</td>\n",
       "      <td>0.5555</td>\n",
       "      <td>uniform</td>\n",
       "    </tr>\n",
       "    <tr>\n",
       "      <th>29</th>\n",
       "      <td>15</td>\n",
       "      <td>0.5475</td>\n",
       "      <td>distance</td>\n",
       "    </tr>\n",
       "    <tr>\n",
       "      <th>...</th>\n",
       "      <td>...</td>\n",
       "      <td>...</td>\n",
       "      <td>...</td>\n",
       "    </tr>\n",
       "    <tr>\n",
       "      <th>3568</th>\n",
       "      <td>1785</td>\n",
       "      <td>0.4455</td>\n",
       "      <td>uniform</td>\n",
       "    </tr>\n",
       "    <tr>\n",
       "      <th>3569</th>\n",
       "      <td>1785</td>\n",
       "      <td>0.5340</td>\n",
       "      <td>distance</td>\n",
       "    </tr>\n",
       "    <tr>\n",
       "      <th>3570</th>\n",
       "      <td>1786</td>\n",
       "      <td>0.4595</td>\n",
       "      <td>uniform</td>\n",
       "    </tr>\n",
       "    <tr>\n",
       "      <th>3571</th>\n",
       "      <td>1786</td>\n",
       "      <td>0.5330</td>\n",
       "      <td>distance</td>\n",
       "    </tr>\n",
       "    <tr>\n",
       "      <th>3572</th>\n",
       "      <td>1787</td>\n",
       "      <td>0.4420</td>\n",
       "      <td>uniform</td>\n",
       "    </tr>\n",
       "    <tr>\n",
       "      <th>3573</th>\n",
       "      <td>1787</td>\n",
       "      <td>0.5365</td>\n",
       "      <td>distance</td>\n",
       "    </tr>\n",
       "    <tr>\n",
       "      <th>3574</th>\n",
       "      <td>1788</td>\n",
       "      <td>0.4590</td>\n",
       "      <td>uniform</td>\n",
       "    </tr>\n",
       "    <tr>\n",
       "      <th>3575</th>\n",
       "      <td>1788</td>\n",
       "      <td>0.5355</td>\n",
       "      <td>distance</td>\n",
       "    </tr>\n",
       "    <tr>\n",
       "      <th>3576</th>\n",
       "      <td>1789</td>\n",
       "      <td>0.4475</td>\n",
       "      <td>uniform</td>\n",
       "    </tr>\n",
       "    <tr>\n",
       "      <th>3577</th>\n",
       "      <td>1789</td>\n",
       "      <td>0.5365</td>\n",
       "      <td>distance</td>\n",
       "    </tr>\n",
       "    <tr>\n",
       "      <th>3578</th>\n",
       "      <td>1790</td>\n",
       "      <td>0.4640</td>\n",
       "      <td>uniform</td>\n",
       "    </tr>\n",
       "    <tr>\n",
       "      <th>3579</th>\n",
       "      <td>1790</td>\n",
       "      <td>0.5375</td>\n",
       "      <td>distance</td>\n",
       "    </tr>\n",
       "    <tr>\n",
       "      <th>3580</th>\n",
       "      <td>1791</td>\n",
       "      <td>0.4600</td>\n",
       "      <td>uniform</td>\n",
       "    </tr>\n",
       "    <tr>\n",
       "      <th>3581</th>\n",
       "      <td>1791</td>\n",
       "      <td>0.5365</td>\n",
       "      <td>distance</td>\n",
       "    </tr>\n",
       "    <tr>\n",
       "      <th>3582</th>\n",
       "      <td>1792</td>\n",
       "      <td>0.4675</td>\n",
       "      <td>uniform</td>\n",
       "    </tr>\n",
       "    <tr>\n",
       "      <th>3583</th>\n",
       "      <td>1792</td>\n",
       "      <td>0.5365</td>\n",
       "      <td>distance</td>\n",
       "    </tr>\n",
       "    <tr>\n",
       "      <th>3584</th>\n",
       "      <td>1793</td>\n",
       "      <td>0.4605</td>\n",
       "      <td>uniform</td>\n",
       "    </tr>\n",
       "    <tr>\n",
       "      <th>3585</th>\n",
       "      <td>1793</td>\n",
       "      <td>0.5355</td>\n",
       "      <td>distance</td>\n",
       "    </tr>\n",
       "    <tr>\n",
       "      <th>3586</th>\n",
       "      <td>1794</td>\n",
       "      <td>0.4750</td>\n",
       "      <td>uniform</td>\n",
       "    </tr>\n",
       "    <tr>\n",
       "      <th>3587</th>\n",
       "      <td>1794</td>\n",
       "      <td>0.5345</td>\n",
       "      <td>distance</td>\n",
       "    </tr>\n",
       "    <tr>\n",
       "      <th>3588</th>\n",
       "      <td>1795</td>\n",
       "      <td>0.4675</td>\n",
       "      <td>uniform</td>\n",
       "    </tr>\n",
       "    <tr>\n",
       "      <th>3589</th>\n",
       "      <td>1795</td>\n",
       "      <td>0.5355</td>\n",
       "      <td>distance</td>\n",
       "    </tr>\n",
       "    <tr>\n",
       "      <th>3590</th>\n",
       "      <td>1796</td>\n",
       "      <td>0.4800</td>\n",
       "      <td>uniform</td>\n",
       "    </tr>\n",
       "    <tr>\n",
       "      <th>3591</th>\n",
       "      <td>1796</td>\n",
       "      <td>0.5355</td>\n",
       "      <td>distance</td>\n",
       "    </tr>\n",
       "    <tr>\n",
       "      <th>3592</th>\n",
       "      <td>1797</td>\n",
       "      <td>0.4880</td>\n",
       "      <td>uniform</td>\n",
       "    </tr>\n",
       "    <tr>\n",
       "      <th>3593</th>\n",
       "      <td>1797</td>\n",
       "      <td>0.5355</td>\n",
       "      <td>distance</td>\n",
       "    </tr>\n",
       "    <tr>\n",
       "      <th>3594</th>\n",
       "      <td>1798</td>\n",
       "      <td>0.4775</td>\n",
       "      <td>uniform</td>\n",
       "    </tr>\n",
       "    <tr>\n",
       "      <th>3595</th>\n",
       "      <td>1798</td>\n",
       "      <td>0.5360</td>\n",
       "      <td>distance</td>\n",
       "    </tr>\n",
       "    <tr>\n",
       "      <th>3596</th>\n",
       "      <td>1799</td>\n",
       "      <td>0.4725</td>\n",
       "      <td>uniform</td>\n",
       "    </tr>\n",
       "    <tr>\n",
       "      <th>3597</th>\n",
       "      <td>1799</td>\n",
       "      <td>0.5365</td>\n",
       "      <td>distance</td>\n",
       "    </tr>\n",
       "  </tbody>\n",
       "</table>\n",
       "<p>3598 rows × 3 columns</p>\n",
       "</div>"
      ],
      "text/plain": [
       "         k   score   weights\n",
       "0        1  0.5115   uniform\n",
       "1        1  0.5115  distance\n",
       "2        2  0.5275   uniform\n",
       "3        2  0.5115  distance\n",
       "4        3  0.5325   uniform\n",
       "5        3  0.5300  distance\n",
       "6        4  0.5285   uniform\n",
       "7        4  0.5215  distance\n",
       "8        5  0.5280   uniform\n",
       "9        5  0.5190  distance\n",
       "10       6  0.5290   uniform\n",
       "11       6  0.5300  distance\n",
       "12       7  0.5380   uniform\n",
       "13       7  0.5295  distance\n",
       "14       8  0.5430   uniform\n",
       "15       8  0.5355  distance\n",
       "16       9  0.5390   uniform\n",
       "17       9  0.5265  distance\n",
       "18      10  0.5590   uniform\n",
       "19      10  0.5460  distance\n",
       "20      11  0.5535   uniform\n",
       "21      11  0.5455  distance\n",
       "22      12  0.5560   uniform\n",
       "23      12  0.5485  distance\n",
       "24      13  0.5520   uniform\n",
       "25      13  0.5500  distance\n",
       "26      14  0.5540   uniform\n",
       "27      14  0.5405  distance\n",
       "28      15  0.5555   uniform\n",
       "29      15  0.5475  distance\n",
       "...    ...     ...       ...\n",
       "3568  1785  0.4455   uniform\n",
       "3569  1785  0.5340  distance\n",
       "3570  1786  0.4595   uniform\n",
       "3571  1786  0.5330  distance\n",
       "3572  1787  0.4420   uniform\n",
       "3573  1787  0.5365  distance\n",
       "3574  1788  0.4590   uniform\n",
       "3575  1788  0.5355  distance\n",
       "3576  1789  0.4475   uniform\n",
       "3577  1789  0.5365  distance\n",
       "3578  1790  0.4640   uniform\n",
       "3579  1790  0.5375  distance\n",
       "3580  1791  0.4600   uniform\n",
       "3581  1791  0.5365  distance\n",
       "3582  1792  0.4675   uniform\n",
       "3583  1792  0.5365  distance\n",
       "3584  1793  0.4605   uniform\n",
       "3585  1793  0.5355  distance\n",
       "3586  1794  0.4750   uniform\n",
       "3587  1794  0.5345  distance\n",
       "3588  1795  0.4675   uniform\n",
       "3589  1795  0.5355  distance\n",
       "3590  1796  0.4800   uniform\n",
       "3591  1796  0.5355  distance\n",
       "3592  1797  0.4880   uniform\n",
       "3593  1797  0.5355  distance\n",
       "3594  1798  0.4775   uniform\n",
       "3595  1798  0.5360  distance\n",
       "3596  1799  0.4725   uniform\n",
       "3597  1799  0.5365  distance\n",
       "\n",
       "[3598 rows x 3 columns]"
      ]
     },
     "execution_count": 30,
     "metadata": {},
     "output_type": "execute_result"
    }
   ],
   "source": [
    "score_df = pd.DataFrame({'k': [score.parameters['n_neighbors'] for score in gs.grid_scores_],\n",
    "        'weights': [score.parameters['weights'] for score in gs.grid_scores_],\n",
    "        'score': [score.mean_validation_score for score in gs.grid_scores_]})\n",
    "\n",
    "score_df"
   ]
  },
  {
   "cell_type": "code",
   "execution_count": 32,
   "metadata": {
    "collapsed": false,
    "deletable": true,
    "editable": true
   },
   "outputs": [
    {
     "data": {
      "image/png": "[encoded data removed]",
      "text/plain": [
       "<matplotlib.figure.Figure at 0x7f190b4c6d10>"
      ]
     },
     "metadata": {},
     "output_type": "display_data"
    }
   ],
   "source": [
    "score_uniform_df = score_df[score_df.weights == 'uniform']\n",
    "plt.plot(score_uniform_df.k, score_uniform_df.score, label = 'uniform')\n",
    "\n",
    "score_distance_df = score_df[score_df.weights == 'distance']\n",
    "plt.plot(score_distance_df.k, score_distance_df.score, label = 'distance')\n",
    "\n",
    "plt.xlabel(\"k\")\n",
    "plt.ylabel(\"mean_validation_score\")\n",
    "plt.savefig ('cumsum_eigenvalues', dpi=300, transparent=True)\n",
    "\n",
    "plt.legend()\n",
    "plt.show()"
   ]
  },
  {
   "cell_type": "code",
   "execution_count": 33,
   "metadata": {
    "collapsed": false,
    "deletable": true,
    "editable": true
   },
   "outputs": [
    {
     "data": {
      "image/png": "[encoded data removed]",
      "text/plain": [
       "<matplotlib.figure.Figure at 0x7f190b707050>"
      ]
     },
     "metadata": {},
     "output_type": "display_data"
    }
   ],
   "source": [
    "score_df.plot(x = 'k', y = 'score')\n",
    "plt.show()"
   ]
  },
  {
   "cell_type": "code",
   "execution_count": 34,
   "metadata": {
    "collapsed": false,
    "deletable": true,
    "editable": true
   },
   "outputs": [
    {
     "data": {
      "text/html": [
       "<div>\n",
       "<table border=\"1\" class=\"dataframe\">\n",
       "  <thead>\n",
       "    <tr style=\"text-align: right;\">\n",
       "      <th></th>\n",
       "      <th>k</th>\n",
       "      <th>score</th>\n",
       "      <th>weights</th>\n",
       "    </tr>\n",
       "  </thead>\n",
       "  <tbody>\n",
       "    <tr>\n",
       "      <th>118</th>\n",
       "      <td>60</td>\n",
       "      <td>0.5885</td>\n",
       "      <td>uniform</td>\n",
       "    </tr>\n",
       "  </tbody>\n",
       "</table>\n",
       "</div>"
      ],
      "text/plain": [
       "      k   score  weights\n",
       "118  60  0.5885  uniform"
      ]
     },
     "execution_count": 34,
     "metadata": {},
     "output_type": "execute_result"
    }
   ],
   "source": [
    "\n",
    "score_df[score_df.score == score_df.score.max()]"
   ]
  },
  {
   "cell_type": "code",
   "execution_count": 35,
   "metadata": {
    "collapsed": false,
    "deletable": true,
    "editable": true
   },
   "outputs": [
    {
     "data": {
      "text/plain": [
       "{'n_neighbors': 60, 'weights': 'uniform'}"
      ]
     },
     "execution_count": 35,
     "metadata": {},
     "output_type": "execute_result"
    }
   ],
   "source": [
    "\n",
    "gs.best_params_"
   ]
  },
  {
   "cell_type": "code",
   "execution_count": 36,
   "metadata": {
    "collapsed": false,
    "deletable": true,
    "editable": true
   },
   "outputs": [
    {
     "data": {
      "text/plain": [
       "KNeighborsClassifier(algorithm='auto', leaf_size=30, metric='minkowski',\n",
       "           metric_params=None, n_jobs=1, n_neighbors=60, p=2,\n",
       "           weights='uniform')"
      ]
     },
     "execution_count": 36,
     "metadata": {},
     "output_type": "execute_result"
    }
   ],
   "source": [
    "gs.best_estimator_"
   ]
  },
  {
   "cell_type": "markdown",
   "metadata": {
    "deletable": true,
    "editable": true
   },
   "source": [
    "# training test"
   ]
  },
  {
   "cell_type": "code",
   "execution_count": 37,
   "metadata": {
    "collapsed": false,
    "deletable": true,
    "editable": true
   },
   "outputs": [],
   "source": [
    "model = neighbors.KNeighborsClassifier(n_neighbors = gs.best_params_['n_neighbors'], weights = gs.best_params_['weights']).\\\n",
    "    fit(train_x, y_train)"
   ]
  },
  {
   "cell_type": "code",
   "execution_count": 38,
   "metadata": {
    "collapsed": false,
    "deletable": true,
    "editable": true
   },
   "outputs": [],
   "source": [
    "training_accuracy = model.score(train_x,y_train)"
   ]
  },
  {
   "cell_type": "code",
   "execution_count": 39,
   "metadata": {
    "collapsed": false,
    "deletable": true,
    "editable": true
   },
   "outputs": [
    {
     "data": {
      "text/plain": [
       "0.61350000000000005"
      ]
     },
     "execution_count": 39,
     "metadata": {},
     "output_type": "execute_result"
    }
   ],
   "source": [
    "training_accuracy"
   ]
  },
  {
   "cell_type": "code",
   "execution_count": 40,
   "metadata": {
    "collapsed": false,
    "deletable": true,
    "editable": true
   },
   "outputs": [
    {
     "name": "stdout",
     "output_type": "stream",
     "text": [
      "The KNN model has a training accuracy 61.35 %.\n"
     ]
    }
   ],
   "source": [
    "print(\"The KNN model has a training accuracy {} %.\".format(training_accuracy * 100.))"
   ]
  },
  {
   "cell_type": "markdown",
   "metadata": {
    "deletable": true,
    "editable": true
   },
   "source": [
    "# test"
   ]
  },
  {
   "cell_type": "code",
   "execution_count": 1,
   "metadata": {
    "collapsed": false,
    "deletable": true,
    "editable": true
   },
   "outputs": [
    {
     "ename": "NameError",
     "evalue": "name 'decomposition' is not defined",
     "output_type": "error",
     "traceback": [
      "\u001b[0;31m\u001b[0m",
      "\u001b[0;31mNameError\u001b[0mTraceback (most recent call last)",
      "\u001b[0;32m<ipython-input-1-609ca072ffe5>\u001b[0m in \u001b[0;36m<module>\u001b[0;34m()\u001b[0m\n\u001b[0;32m----> 1\u001b[0;31m \u001b[0mpca\u001b[0m \u001b[0;34m=\u001b[0m \u001b[0mdecomposition\u001b[0m\u001b[0;34m.\u001b[0m\u001b[0mPCA\u001b[0m\u001b[0;34m(\u001b[0m\u001b[0mn_components\u001b[0m \u001b[0;34m=\u001b[0m \u001b[0;36m4\u001b[0m\u001b[0;34m)\u001b[0m\u001b[0;34m.\u001b[0m\u001b[0mfit\u001b[0m\u001b[0;34m(\u001b[0m\u001b[0mx_test\u001b[0m\u001b[0;34m)\u001b[0m\u001b[0;34m\u001b[0m\u001b[0m\n\u001b[0m\u001b[1;32m      2\u001b[0m \u001b[0mtest_X\u001b[0m \u001b[0;34m=\u001b[0m \u001b[0mpca\u001b[0m\u001b[0;34m.\u001b[0m\u001b[0mtransform\u001b[0m\u001b[0;34m(\u001b[0m\u001b[0mx_test\u001b[0m\u001b[0;34m)\u001b[0m\u001b[0;34m\u001b[0m\u001b[0m\n",
      "\u001b[0;31mNameError\u001b[0m: name 'decomposition' is not defined"
     ]
    }
   ],
   "source": [
    "pca = decomposition.PCA(n_components = 4).fit(x_test)\n",
    "test_X = pca.transform(x_test)"
   ]
  },
  {
   "cell_type": "code",
   "execution_count": 145,
   "metadata": {
    "collapsed": false,
    "deletable": true,
    "editable": true
   },
   "outputs": [],
   "source": [
    "testing_accuracy = model.score(test_X,y_test)"
   ]
  },
  {
   "cell_type": "code",
   "execution_count": 150,
   "metadata": {
    "collapsed": false,
    "deletable": true,
    "editable": true
   },
   "outputs": [
    {
     "name": "stdout",
     "output_type": "stream",
     "text": [
      "The KNN model has a testing accuracy 49.75 %.\n"
     ]
    }
   ],
   "source": [
    "print(\"The KNN model has a testing accuracy {} %.\".format(testing_accuracy * 100.))"
   ]
  },
  {
   "cell_type": "code",
   "execution_count": 151,
   "metadata": {
    "collapsed": false,
    "deletable": true,
    "editable": true
   },
   "outputs": [
    {
     "name": "stdout",
     "output_type": "stream",
     "text": [
      "             precision    recall  f1-score   support\n",
      "\n",
      "          0       0.50      0.80      0.61       400\n",
      "          1       0.49      0.19      0.28       400\n",
      "\n",
      "avg / total       0.50      0.50      0.45       800\n",
      "\n"
     ]
    }
   ],
   "source": [
    "print (classification_report(y_test,model.predict(test_X)))"
   ]
  },
  {
   "cell_type": "code",
   "execution_count": null,
   "metadata": {
    "collapsed": true,
    "deletable": true,
    "editable": true
   },
   "outputs": [],
   "source": []
  }
 ],
 "metadata": {
  "kernelspec": {
   "display_name": "Python 2",
   "language": "python",
   "name": "python2"
  },
  "language_info": {
   "codemirror_mode": {
    "name": "ipython",
    "version": 2
   },
   "file_extension": ".py",
   "mimetype": "text/x-python",
   "name": "python",
   "nbconvert_exporter": "python",
   "pygments_lexer": "ipython2",
   "version": "2.7.13"
  }
 },
 "nbformat": 4,
 "nbformat_minor": 2
}
